{
 "cells": [
  {
   "cell_type": "markdown",
   "metadata": {},
   "source": [
    "# Decorators"
   ]
  },
  {
   "cell_type": "markdown",
   "metadata": {},
   "source": [
    "Decorators are powerful and flexible feature in python that allows you to modify the behaviour of a function or class methos. They are commonly used to add functionality to functions or methods without modifying their actual code."
   ]
  },
  {
   "cell_type": "code",
   "execution_count": 18,
   "metadata": {},
   "outputs": [],
   "source": [
    "def main_function(func):\n",
    "    def sub_function():\n",
    "        print(\"welcome to the course\")\n",
    "        func()\n",
    "        print(\"please learn these concepts properly\")\n",
    "\n",
    "    return sub_function()\n"
   ]
  },
  {
   "cell_type": "code",
   "execution_count": 19,
   "metadata": {},
   "outputs": [
    {
     "name": "stdout",
     "output_type": "stream",
     "text": [
      "this is advancedd python course\n"
     ]
    }
   ],
   "source": [
    "def course_intro():\n",
    "    print(\"this is advancedd python course\")\n",
    "\n",
    "course_intro()"
   ]
  },
  {
   "cell_type": "code",
   "execution_count": 20,
   "metadata": {},
   "outputs": [
    {
     "name": "stdout",
     "output_type": "stream",
     "text": [
      "welcome to the course\n",
      "this is advancedd python course\n",
      "please learn these concepts properly\n"
     ]
    }
   ],
   "source": [
    "main_function(course_intro)"
   ]
  },
  {
   "cell_type": "code",
   "execution_count": 21,
   "metadata": {},
   "outputs": [
    {
     "name": "stdout",
     "output_type": "stream",
     "text": [
      "welcome to the course\n",
      "this is advancedd python course\n",
      "please learn these concepts properly\n"
     ]
    }
   ],
   "source": [
    "# instead of doing this we can use decorators to do that same this \n",
    "\n",
    "@main_function\n",
    "def course_intro():\n",
    "    print(\"this is advancedd python course\")"
   ]
  },
  {
   "cell_type": "code",
   "execution_count": 23,
   "metadata": {},
   "outputs": [],
   "source": [
    "# Decorators with arguments\n",
    "def repeat(n):\n",
    "    def decorator(func):\n",
    "        def wrapper(*args, **kwargs):\n",
    "            for _ in range(n):\n",
    "                func(*args,**kwargs)\n",
    "        return wrapper\n",
    "    return decorator\n"
   ]
  },
  {
   "cell_type": "code",
   "execution_count": 24,
   "metadata": {},
   "outputs": [],
   "source": [
    "@repeat(3)\n",
    "def say_hello():\n",
    "    print(\"hello\")"
   ]
  },
  {
   "cell_type": "code",
   "execution_count": 25,
   "metadata": {},
   "outputs": [
    {
     "name": "stdout",
     "output_type": "stream",
     "text": [
      "hello\n",
      "hello\n",
      "hello\n"
     ]
    }
   ],
   "source": [
    "say_hello()"
   ]
  },
  {
   "cell_type": "markdown",
   "metadata": {},
   "source": [
    "# Function copy"
   ]
  },
  {
   "cell_type": "code",
   "execution_count": 7,
   "metadata": {},
   "outputs": [
    {
     "data": {
      "text/plain": [
       "'Welcome!'"
      ]
     },
     "execution_count": 7,
     "metadata": {},
     "output_type": "execute_result"
    }
   ],
   "source": [
    "# it means copying actual function\n",
    "def Welcome():\n",
    "    return \"Welcome!\"\n",
    "Welcome()"
   ]
  },
  {
   "cell_type": "code",
   "execution_count": 8,
   "metadata": {},
   "outputs": [
    {
     "data": {
      "text/plain": [
       "'Welcome!'"
      ]
     },
     "execution_count": 8,
     "metadata": {},
     "output_type": "execute_result"
    }
   ],
   "source": [
    "wel=Welcome # --> we just copied tjis function using this kind of syntax\n",
    "\n",
    "wel()\n",
    "del Welcome\n",
    "wel()\n",
    "\n",
    "# We can also access this function copy after deleting original function"
   ]
  },
  {
   "cell_type": "markdown",
   "metadata": {},
   "source": [
    "# Closures \n",
    "\n",
    "means function inside the function"
   ]
  },
  {
   "cell_type": "code",
   "execution_count": 13,
   "metadata": {},
   "outputs": [],
   "source": [
    "def main_func():\n",
    "    msg=\"Welcome\"\n",
    "    def sub_func():\n",
    "        print(\"Welcomeee!!\")\n",
    "        print(msg)\n",
    "        print(\"welcome again\")\n",
    "\n",
    "    return sub_func()\n",
    "\n",
    "# we can use main functions variables in sub functions\n"
   ]
  },
  {
   "cell_type": "code",
   "execution_count": 12,
   "metadata": {},
   "outputs": [
    {
     "name": "stdout",
     "output_type": "stream",
     "text": [
      "Welcomeee!!\n",
      "Welcome\n",
      "welcome again\n"
     ]
    }
   ],
   "source": [
    "main_func()"
   ]
  },
  {
   "cell_type": "code",
   "execution_count": 14,
   "metadata": {},
   "outputs": [],
   "source": [
    "def main_func(func):\n",
    "    \n",
    "    def sub_func():   # function inside function\n",
    "        print(\"Welcomeee!!\")\n",
    "        func(\"Welcome sir\") # --> this is also function inside function.\n",
    "        print(\"welcome again\")\n",
    "\n",
    "    return sub_func()\n"
   ]
  },
  {
   "cell_type": "code",
   "execution_count": 17,
   "metadata": {},
   "outputs": [
    {
     "name": "stdout",
     "output_type": "stream",
     "text": [
      "Welcomeee!!\n",
      "Welcome sir\n",
      "welcome again\n"
     ]
    }
   ],
   "source": [
    "main_func(print) # in this func will get replaced by print\n"
   ]
  }
 ],
 "metadata": {
  "kernelspec": {
   "display_name": "Python 3",
   "language": "python",
   "name": "python3"
  },
  "language_info": {
   "codemirror_mode": {
    "name": "ipython",
    "version": 3
   },
   "file_extension": ".py",
   "mimetype": "text/x-python",
   "name": "python",
   "nbconvert_exporter": "python",
   "pygments_lexer": "ipython3",
   "version": "3.12.1"
  }
 },
 "nbformat": 4,
 "nbformat_minor": 2
}
