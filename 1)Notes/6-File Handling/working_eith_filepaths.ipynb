{
 "cells": [
  {
   "cell_type": "code",
   "execution_count": 3,
   "metadata": {},
   "outputs": [
    {
     "name": "stdout",
     "output_type": "stream",
     "text": [
      "current working directory is d:\\AIML\\GIT\\Machine-learning-course\\1)Notes\\6-File Handling\n"
     ]
    }
   ],
   "source": [
    "import os \n",
    "cwd = os.getcwd()\n",
    "print(f\"current working directory is {cwd}\")"
   ]
  },
  {
   "cell_type": "code",
   "execution_count": 1,
   "metadata": {},
   "outputs": [
    {
     "name": "stdout",
     "output_type": "stream",
     "text": [
      "directory 'package' create\n"
     ]
    }
   ],
   "source": [
    "# create new directory\n",
    "import os\n",
    "new_directory = \"package\"\n",
    "os.mkdir(new_directory)\n",
    "print(f\"directory '{new_directory}' create\")"
   ]
  },
  {
   "cell_type": "code",
   "execution_count": 4,
   "metadata": {},
   "outputs": [
    {
     "name": "stdout",
     "output_type": "stream",
     "text": [
      "['destination.txt', 'ex.bin', 'ex.txt', 'exe.txt', 'file_operations.ipynb', 'package', 'working_eith_filepaths.ipynb']\n"
     ]
    }
   ],
   "source": [
    "# listing all files and directory\n",
    "items = os.listdir('.')\n",
    "print(items) "
   ]
  },
  {
   "cell_type": "code",
   "execution_count": 6,
   "metadata": {},
   "outputs": [
    {
     "name": "stdout",
     "output_type": "stream",
     "text": [
      "folder\\file.txt\n"
     ]
    }
   ],
   "source": [
    "# joining paths\n",
    "dir_name = \"folder\"\n",
    "file_name = \"file.txt\"\n",
    "full_path = os.path.join(dir_name,file_name)\n",
    "print(full_path)"
   ]
  },
  {
   "cell_type": "code",
   "execution_count": 8,
   "metadata": {},
   "outputs": [
    {
     "name": "stdout",
     "output_type": "stream",
     "text": [
      "d:\\AIML\\GIT\\Machine-learning-course\\1)Notes\\6-File Handling\\folder\\file.txt\n"
     ]
    }
   ],
   "source": [
    "full_path=os.path.join(os.getcwd(),dir_name,file_name)\n",
    "print(full_path)"
   ]
  },
  {
   "cell_type": "code",
   "execution_count": 9,
   "metadata": {},
   "outputs": [
    {
     "name": "stdout",
     "output_type": "stream",
     "text": [
      "The path 'example.txt' does not exists\n"
     ]
    }
   ],
   "source": [
    "# Checking path is exists or not\n",
    "path = 'example.txt'\n",
    "if os.path.exists(path):\n",
    "    print(f\"The path '{path}' exists\")\n",
    "\n",
    "else:\n",
    "    print(f\"The path '{path}' does not exists\")\n",
    "\n"
   ]
  },
  {
   "cell_type": "code",
   "execution_count": 14,
   "metadata": {},
   "outputs": [
    {
     "name": "stdout",
     "output_type": "stream",
     "text": [
      "The path package is a directory\n",
      "None\n",
      "the path 'destination.txt'is a file\n",
      "None\n"
     ]
    }
   ],
   "source": [
    "# checking if a path is a file or directory\n",
    "import os\n",
    "def check_file_or_dir(path):\n",
    "\n",
    "    if os.path.isfile(path):\n",
    "        print(f\"the path '{path}'is a file\")\n",
    "\n",
    "    elif os.path.isdir(path):\n",
    "        print(f\"The path {path} is a directory\")\n",
    "\n",
    "    else:\n",
    "        print(f\"The path {path} is neither a file nor a directory.\")\n",
    "\n",
    "print(check_file_or_dir(\"package\"))\n",
    "print(check_file_or_dir(\"destination.txt\"))"
   ]
  },
  {
   "cell_type": "code",
   "execution_count": 15,
   "metadata": {},
   "outputs": [
    {
     "name": "stdout",
     "output_type": "stream",
     "text": [
      "d:\\AIML\\GIT\\Machine-learning-course\\1)Notes\\6-File Handling\\ex.txt\n"
     ]
    }
   ],
   "source": [
    "# Getting the absolute path \n",
    "relative_path = 'ex.txt'\n",
    "absolute_path=os.path.abspath(relative_path)\n",
    "print(absolute_path)"
   ]
  }
 ],
 "metadata": {
  "kernelspec": {
   "display_name": "base",
   "language": "python",
   "name": "python3"
  },
  "language_info": {
   "codemirror_mode": {
    "name": "ipython",
    "version": 3
   },
   "file_extension": ".py",
   "mimetype": "text/x-python",
   "name": "python",
   "nbconvert_exporter": "python",
   "pygments_lexer": "ipython3",
   "version": "3.12.7"
  }
 },
 "nbformat": 4,
 "nbformat_minor": 2
}
