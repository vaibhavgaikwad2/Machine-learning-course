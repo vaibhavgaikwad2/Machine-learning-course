{
 "cells": [
  {
   "cell_type": "markdown",
   "metadata": {},
   "source": [
    "# Memory Management \n",
    "\n",
    "\n",
    "it involves a combination of automatic garbage collection, referance counting and various internal optimizations to efficiently manage memory allocation and deallocation.\n",
    "\n",
    "\n",
    "1) Memory allocation and deallocation\n",
    "2) Referance counting\n",
    "3) Grabage collection\n",
    "4) The gc module\n",
    "6) Memory Management Best practices"
   ]
  },
  {
   "cell_type": "markdown",
   "metadata": {},
   "source": [
    "### Referance Counting-->\n",
    "\n",
    "it is the primary method python uses to manage memory. each object in python maintains a count of referance pointing to it. when the referance count drops to zero, the memory occupied by the object is deaalocated."
   ]
  },
  {
   "cell_type": "code",
   "execution_count": 1,
   "metadata": {},
   "outputs": [
    {
     "name": "stdout",
     "output_type": "stream",
     "text": [
      "2\n"
     ]
    }
   ],
   "source": [
    "import sys\n",
    "\n",
    "a=[]\n",
    "print(sys.getrefcount(a))\n",
    "\n",
    "# output is 2 --> one is from 'a' and another is from getrefcount()\n"
   ]
  },
  {
   "cell_type": "code",
   "execution_count": 2,
   "metadata": {},
   "outputs": [
    {
     "name": "stdout",
     "output_type": "stream",
     "text": [
      "3\n"
     ]
    }
   ],
   "source": [
    "b=a\n",
    "print(sys.getrefcount(b))"
   ]
  },
  {
   "cell_type": "code",
   "execution_count": 3,
   "metadata": {},
   "outputs": [
    {
     "name": "stdout",
     "output_type": "stream",
     "text": [
      "3\n"
     ]
    }
   ],
   "source": [
    "print(sys.getrefcount(a))"
   ]
  },
  {
   "cell_type": "markdown",
   "metadata": {},
   "source": [
    "# Garbage collection\n",
    "\n",
    "\n",
    "pyhtons includes a cyclic garbage collector to handle reference cycles. Referance cycles occur when objects reference each other, preventing their referance counts reaching from zero.\n",
    "\n"
   ]
  },
  {
   "cell_type": "code",
   "execution_count": 4,
   "metadata": {},
   "outputs": [],
   "source": [
    "import gc\n",
    "\n",
    "# enable garbage collection\n",
    "gc.enable()"
   ]
  },
  {
   "cell_type": "code",
   "execution_count": 5,
   "metadata": {},
   "outputs": [],
   "source": [
    "gc.disable()"
   ]
  },
  {
   "cell_type": "code",
   "execution_count": 6,
   "metadata": {},
   "outputs": [
    {
     "data": {
      "text/plain": [
       "582"
      ]
     },
     "execution_count": 6,
     "metadata": {},
     "output_type": "execute_result"
    }
   ],
   "source": [
    "gc.collect()"
   ]
  },
  {
   "cell_type": "code",
   "execution_count": 7,
   "metadata": {},
   "outputs": [
    {
     "name": "stdout",
     "output_type": "stream",
     "text": [
      "[{'collections': 318, 'collected': 1492, 'uncollectable': 0}, {'collections': 28, 'collected': 213, 'uncollectable': 0}, {'collections': 3, 'collected': 602, 'uncollectable': 0}]\n"
     ]
    }
   ],
   "source": [
    "# Grabage collection stats\n",
    "print(gc.get_stats())"
   ]
  },
  {
   "cell_type": "code",
   "execution_count": 8,
   "metadata": {},
   "outputs": [
    {
     "name": "stdout",
     "output_type": "stream",
     "text": [
      "[]\n"
     ]
    }
   ],
   "source": [
    "# Get unreachable objects\n",
    "print(gc.garbage)"
   ]
  },
  {
   "cell_type": "markdown",
   "metadata": {},
   "source": [
    "# Memory management Best practices\n",
    "\n",
    "1. Use local variables: Local Variables have a shorter lifespan and are freed sooner than global variables.\n",
    "\n",
    "2. Avoid Circular Referance: Circular referance can lead to memory leaks if not properly managed.\n",
    "\n",
    "3. Use generators: Generators produce items one at a time and only keep one item in memory at time, making them memory efficient.\n",
    "\n",
    "\n",
    "4. Explicitly Delete Objects: Use the del statement to delete variables and objects explicitly.\n",
    "\n",
    "\n",
    "5. Profile memory usage: Use meomry profiling tools like tracemalloc and memory_profiler to identify memory leaks and optimize usage.\n",
    "\n"
   ]
  },
  {
   "cell_type": "code",
   "execution_count": 10,
   "metadata": {},
   "outputs": [
    {
     "name": "stdout",
     "output_type": "stream",
     "text": [
      "Object Obj1 created\n",
      "Object Obj2 created\n",
      "object Obj1 is deleted\n",
      "object Obj2 is deleted\n",
      "object Obj1 is deleted\n",
      "object Obj2 is deleted\n"
     ]
    },
    {
     "data": {
      "text/plain": [
       "498"
      ]
     },
     "execution_count": 10,
     "metadata": {},
     "output_type": "execute_result"
    }
   ],
   "source": [
    "import gc \n",
    "\n",
    "class Myobject:\n",
    "\n",
    "    def __init__(self,name):\n",
    "        self.name=name\n",
    "        print(f\"Object {self.name} created\")\n",
    "\n",
    "    def __del__(self):\n",
    "        print(f\"object {self.name} is deleted\")\n",
    "\n",
    "# creating circular object\n",
    "\n",
    "obj1=Myobject(\"Obj1\")\n",
    "obj2=Myobject(\"Obj2\")\n",
    "obj1.ref=obj2\n",
    "obj2.ref=obj1\n",
    "\n",
    "\n",
    "del obj1\n",
    "del obj2\n",
    "\n",
    "#manually trigger the garbage collection\n",
    "gc.collect()"
   ]
  },
  {
   "cell_type": "code",
   "execution_count": 12,
   "metadata": {},
   "outputs": [
    {
     "name": "stdout",
     "output_type": "stream",
     "text": [
      "0\n",
      "1\n",
      "2\n",
      "3\n",
      "4\n",
      "5\n",
      "6\n",
      "7\n",
      "8\n",
      "9\n",
      "10\n",
      "11\n"
     ]
    }
   ],
   "source": [
    "# Generators for memory efficiency\n",
    "# GEnerators allows you to produce one item at a time\n",
    "# Using memory efficiently by only keeping one item at a time\n",
    "\n",
    "\n",
    "def generate_numbers(n):\n",
    "    for i in range(n):\n",
    "        yield i\n",
    "\n",
    "# USing generator\n",
    "for num in generate_numbers(10000):\n",
    "    print(num)\n",
    "    if num>10:\n",
    "        break"
   ]
  },
  {
   "cell_type": "code",
   "execution_count": 4,
   "metadata": {},
   "outputs": [],
   "source": [
    "# Profiling memory usage with tracemalloc\n",
    "\n",
    "import tracemalloc\n",
    "\n",
    "def create_list():\n",
    "    return [i for i in range(10000)]\n",
    "\n",
    "def main():\n",
    "    tracemalloc.start()\n",
    "\n",
    "    create_list()\n",
    "\n",
    "    snapshot=tracemalloc.take_snapshot()\n",
    "    top_stats=snapshot.statistics('lineno')\n",
    "\n",
    "    print('[Top 10]')\n",
    "    for stat in top_stats[:10]:\n",
    "        print(stat)\n"
   ]
  },
  {
   "cell_type": "code",
   "execution_count": 5,
   "metadata": {},
   "outputs": [
    {
     "name": "stdout",
     "output_type": "stream",
     "text": [
      "[Top 10]\n",
      "c:\\Users\\vaibh\\anaconda3\\Lib\\selectors.py:314: size=288 KiB, count=6, average=48.0 KiB\n",
      "<frozen genericpath>:89: size=50.4 KiB, count=518, average=100 B\n",
      "C:\\Users\\vaibh\\AppData\\Roaming\\Python\\Python312\\site-packages\\pygments\\lexer.py:508: size=17.2 KiB, count=220, average=80 B\n",
      "C:\\Users\\vaibh\\AppData\\Roaming\\Python\\Python312\\site-packages\\pygments\\style.py:94: size=16.6 KiB, count=259, average=66 B\n",
      "C:\\Users\\vaibh\\AppData\\Roaming\\Python\\Python312\\site-packages\\pygments\\lexer.py:591: size=14.9 KiB, count=253, average=60 B\n",
      "C:\\Users\\vaibh\\AppData\\Roaming\\Python\\Python312\\site-packages\\pygments\\formatters\\terminal256.py:44: size=14.6 KiB, count=294, average=51 B\n",
      "c:\\Users\\vaibh\\anaconda3\\Lib\\ast.py:52: size=13.2 KiB, count=139, average=97 B\n",
      "C:\\Users\\vaibh\\AppData\\Roaming\\Python\\Python312\\site-packages\\pygments\\formatters\\terminal256.py:180: size=12.9 KiB, count=174, average=76 B\n",
      "C:\\Users\\vaibh\\AppData\\Roaming\\Python\\Python312\\site-packages\\pygments\\token.py:44: size=10.7 KiB, count=159, average=69 B\n",
      "c:\\Users\\vaibh\\anaconda3\\Lib\\tokenize.py:576: size=9208 B, count=164, average=56 B\n"
     ]
    }
   ],
   "source": [
    "main()"
   ]
  },
  {
   "cell_type": "code",
   "execution_count": null,
   "metadata": {},
   "outputs": [],
   "source": []
  }
 ],
 "metadata": {
  "kernelspec": {
   "display_name": "base",
   "language": "python",
   "name": "python3"
  },
  "language_info": {
   "codemirror_mode": {
    "name": "ipython",
    "version": 3
   },
   "file_extension": ".py",
   "mimetype": "text/x-python",
   "name": "python",
   "nbconvert_exporter": "python",
   "pygments_lexer": "ipython3",
   "version": "3.12.7"
  }
 },
 "nbformat": 4,
 "nbformat_minor": 2
}
