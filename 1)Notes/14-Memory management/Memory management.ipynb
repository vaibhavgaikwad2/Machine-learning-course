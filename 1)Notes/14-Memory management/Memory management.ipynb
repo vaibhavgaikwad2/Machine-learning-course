{
 "cells": [
  {
   "cell_type": "markdown",
   "metadata": {},
   "source": [
    "# Memory Management \n",
    "\n",
    "\n",
    "it involves a combination of automatic garbage collection, referance counting and various internal optimizations to efficiently manage memory allocation and deallocation.\n",
    "\n",
    "\n",
    "1) Memory allocation and deallocation\n",
    "2) Referance counting\n",
    "3) Grabage collection\n",
    "4) The gc module\n",
    "6) Memory Management Best practices"
   ]
  },
  {
   "cell_type": "markdown",
   "metadata": {},
   "source": [
    "### Referance Counting-->\n",
    "\n",
    "it is the primary method python uses to manage memory. each object in python maintains a count of referance pointing to it. when the referance count drops to zero, the memory occupied by the object is deaalocated."
   ]
  },
  {
   "cell_type": "code",
   "execution_count": 1,
   "metadata": {},
   "outputs": [
    {
     "name": "stdout",
     "output_type": "stream",
     "text": [
      "2\n"
     ]
    }
   ],
   "source": [
    "import sys\n",
    "\n",
    "a=[]\n",
    "print(sys.getrefcount(a))\n",
    "\n",
    "# output is 2 --> one is from 'a' and another is from getrefcount()\n"
   ]
  },
  {
   "cell_type": "code",
   "execution_count": 2,
   "metadata": {},
   "outputs": [
    {
     "name": "stdout",
     "output_type": "stream",
     "text": [
      "3\n"
     ]
    }
   ],
   "source": [
    "b=a\n",
    "print(sys.getrefcount(b))"
   ]
  },
  {
   "cell_type": "code",
   "execution_count": null,
   "metadata": {},
   "outputs": [],
   "source": []
  }
 ],
 "metadata": {
  "kernelspec": {
   "display_name": "base",
   "language": "python",
   "name": "python3"
  },
  "language_info": {
   "codemirror_mode": {
    "name": "ipython",
    "version": 3
   },
   "file_extension": ".py",
   "mimetype": "text/x-python",
   "name": "python",
   "nbconvert_exporter": "python",
   "pygments_lexer": "ipython3",
   "version": "3.12.7"
  }
 },
 "nbformat": 4,
 "nbformat_minor": 2
}
