{
 "cells": [
  {
   "cell_type": "markdown",
   "metadata": {},
   "source": [
    "standard library\n"
   ]
  },
  {
   "cell_type": "code",
   "execution_count": 1,
   "metadata": {},
   "outputs": [
    {
     "name": "stdout",
     "output_type": "stream",
     "text": [
      "array('i', [1, 2, 3, 4, 5])\n"
     ]
    }
   ],
   "source": [
    "# 1) first standard library used to create array's\n",
    "import array\n",
    "arr = array.array('i',[1,2,3,4,5])\n",
    "print(arr)\n"
   ]
  },
  {
   "cell_type": "code",
   "execution_count": 2,
   "metadata": {},
   "outputs": [
    {
     "name": "stdout",
     "output_type": "stream",
     "text": [
      "5.0\n",
      "3.141592653589793\n",
      "0.8939966636005579\n"
     ]
    }
   ],
   "source": [
    "#2) math SL --> used to perform mathematical operations\n",
    "from math import *\n",
    "print(sqrt(25))\n",
    "print(pi)\n",
    "print(sin(90))"
   ]
  },
  {
   "cell_type": "code",
   "execution_count": 4,
   "metadata": {},
   "outputs": [
    {
     "name": "stdout",
     "output_type": "stream",
     "text": [
      "2\n",
      "apple\n"
     ]
    }
   ],
   "source": [
    "# 3) random --> gives random values\n",
    "\n",
    "import random \n",
    "print(random.randint(1,10))\n",
    "print(random.choice(['apple','banana','cherry']))\n",
    "\n",
    "\n"
   ]
  },
  {
   "cell_type": "code",
   "execution_count": 7,
   "metadata": {},
   "outputs": [
    {
     "name": "stdout",
     "output_type": "stream",
     "text": [
      "d:\\AIML\\GIT\\Machine-learning-course\\1)Notes\\5-Modules and Packages\n"
     ]
    }
   ],
   "source": [
    "# 4) file and directory access lib\n",
    "\n",
    "import os\n",
    "print(os.getcwd()) # --> getting path of current working directory\n",
    "os.mkdir('test_dir') # --> used to create folder in cwd\n"
   ]
  },
  {
   "cell_type": "code",
   "execution_count": 8,
   "metadata": {},
   "outputs": [
    {
     "data": {
      "text/plain": [
       "'destination.txt'"
      ]
     },
     "execution_count": 8,
     "metadata": {},
     "output_type": "execute_result"
    }
   ],
   "source": [
    "# 5) High level operations on files and collection of files\n",
    "import shutil\n",
    "shutil.copy('source.txt','destination.txt')"
   ]
  },
  {
   "cell_type": "code",
   "execution_count": 11,
   "metadata": {},
   "outputs": [
    {
     "name": "stdout",
     "output_type": "stream",
     "text": [
      "<class 'str'>\n",
      "{\"name\": \"krish\", \"age\": 25}\n",
      "{'name': 'krish', 'age': 25}\n",
      "<class 'dict'>\n"
     ]
    }
   ],
   "source": [
    "# 6) Data serialization\n",
    "import json\n",
    "data = {'name':'krish','age':25}\n",
    "\n",
    "json_str = json.dumps(data)\n",
    "print(type(json_str))\n",
    "print(json_str)\n",
    "\n",
    "parsed_data=json.loads(json_str)\n",
    "\n",
    "print(parsed_data)\n",
    "print(type(parsed_data))"
   ]
  },
  {
   "cell_type": "code",
   "execution_count": 12,
   "metadata": {},
   "outputs": [
    {
     "name": "stdout",
     "output_type": "stream",
     "text": [
      "['name', 'age']\n",
      "['vaibhs', '20']\n"
     ]
    }
   ],
   "source": [
    "# 7) csv\n",
    "\n",
    "import csv\n",
    "with open('example.csv', mode = 'w', newline = '') as file:\n",
    "    writer = csv.writer(file)\n",
    "    writer.writerow(['name','age'])\n",
    "    writer.writerow(['vaibhs',20])\n",
    "\n",
    "with open('example.csv',mode='r') as file:\n",
    "    reader = csv.reader(file)\n",
    "    for row in reader:\n",
    "        print(row)\n"
   ]
  },
  {
   "cell_type": "code",
   "execution_count": 14,
   "metadata": {},
   "outputs": [
    {
     "name": "stdout",
     "output_type": "stream",
     "text": [
      "2025-01-05 13:45:47.729437\n",
      "2025-01-04 13:45:47.729437\n"
     ]
    }
   ],
   "source": [
    "# 8) Datetime --> gives current time and date\n",
    "from datetime import datetime, timedelta\n",
    "now = datetime.now()\n",
    "print(now)\n",
    "\n",
    "yesterday = now-timedelta(days=1)\n",
    "print(yesterday)"
   ]
  },
  {
   "cell_type": "code",
   "execution_count": 15,
   "metadata": {},
   "outputs": [
    {
     "name": "stdout",
     "output_type": "stream",
     "text": [
      "1736065051.59622\n",
      "1736065071.5974097\n"
     ]
    }
   ],
   "source": [
    "# 9) time\n",
    "import time \n",
    "print(time.time())\n",
    "time.sleep(20)\n",
    "print(time.time())"
   ]
  },
  {
   "cell_type": "code",
   "execution_count": null,
   "metadata": {},
   "outputs": [],
   "source": []
  }
 ],
 "metadata": {
  "kernelspec": {
   "display_name": "base",
   "language": "python",
   "name": "python3"
  },
  "language_info": {
   "codemirror_mode": {
    "name": "ipython",
    "version": 3
   },
   "file_extension": ".py",
   "mimetype": "text/x-python",
   "name": "python",
   "nbconvert_exporter": "python",
   "pygments_lexer": "ipython3",
   "version": "3.12.7"
  }
 },
 "nbformat": 4,
 "nbformat_minor": 2
}
