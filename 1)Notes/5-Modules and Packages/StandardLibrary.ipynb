{
 "cells": [
  {
   "cell_type": "markdown",
   "metadata": {},
   "source": [
    "standard library\n"
   ]
  },
  {
   "cell_type": "code",
   "execution_count": 1,
   "metadata": {},
   "outputs": [
    {
     "name": "stdout",
     "output_type": "stream",
     "text": [
      "array('i', [1, 2, 3, 4, 5])\n"
     ]
    }
   ],
   "source": [
    "# 1) first standard library used to create array's\n",
    "import array\n",
    "arr = array.array('i',[1,2,3,4,5])\n",
    "print(arr)\n"
   ]
  },
  {
   "cell_type": "code",
   "execution_count": 2,
   "metadata": {},
   "outputs": [
    {
     "name": "stdout",
     "output_type": "stream",
     "text": [
      "5.0\n",
      "3.141592653589793\n",
      "0.8939966636005579\n"
     ]
    }
   ],
   "source": [
    "#2) math SL --> used to perform mathematical operations\n",
    "from math import *\n",
    "print(sqrt(25))\n",
    "print(pi)\n",
    "print(sin(90))"
   ]
  },
  {
   "cell_type": "code",
   "execution_count": 4,
   "metadata": {},
   "outputs": [
    {
     "name": "stdout",
     "output_type": "stream",
     "text": [
      "2\n",
      "apple\n"
     ]
    }
   ],
   "source": [
    "# 3) random --> gives random values\n",
    "\n",
    "import random \n",
    "print(random.randint(1,10))\n",
    "print(random.choice(['apple','banana','cherry']))\n",
    "\n",
    "\n"
   ]
  },
  {
   "cell_type": "code",
   "execution_count": 7,
   "metadata": {},
   "outputs": [
    {
     "name": "stdout",
     "output_type": "stream",
     "text": [
      "d:\\AIML\\GIT\\Machine-learning-course\\1)Notes\\5-Modules and Packages\n"
     ]
    }
   ],
   "source": [
    "# 4) file and directory access lib\n",
    "\n",
    "import os\n",
    "print(os.getcwd()) # --> getting path of current working directory\n",
    "os.mkdir('test_dir') # --> used to create folder in cwd\n"
   ]
  },
  {
   "cell_type": "code",
   "execution_count": null,
   "metadata": {},
   "outputs": [],
   "source": []
  }
 ],
 "metadata": {
  "kernelspec": {
   "display_name": "base",
   "language": "python",
   "name": "python3"
  },
  "language_info": {
   "codemirror_mode": {
    "name": "ipython",
    "version": 3
   },
   "file_extension": ".py",
   "mimetype": "text/x-python",
   "name": "python",
   "nbconvert_exporter": "python",
   "pygments_lexer": "ipython3",
   "version": "3.12.7"
  }
 },
 "nbformat": 4,
 "nbformat_minor": 2
}
