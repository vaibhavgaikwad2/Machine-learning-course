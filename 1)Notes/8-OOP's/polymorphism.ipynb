{
 "cells": [
  {
   "cell_type": "markdown",
   "metadata": {},
   "source": [
    "it provide way to perform a singlr action in different forms\n"
   ]
  },
  {
   "cell_type": "markdown",
   "metadata": {},
   "source": [
    "polymorphism can be acheived through function overloading and operator overloading"
   ]
  },
  {
   "cell_type": "markdown",
   "metadata": {},
   "source": [
    "1) Method/funcyion Overloading --> allows child class to provide a specific implementation of a method that is already defined in parent class.\n"
   ]
  },
  {
   "cell_type": "code",
   "execution_count": 10,
   "metadata": {},
   "outputs": [
    {
     "name": "stdout",
     "output_type": "stream",
     "text": [
      "woof\n",
      "meow\n"
     ]
    }
   ],
   "source": [
    "# BAse class \n",
    "class Animal:\n",
    "    def speak(self):   #there is no need of defining constructor when we dont definr attributes\n",
    "        return \"Sound of the animal\"\n",
    "\n",
    "# derived class 1\n",
    "class Dog(Animal):\n",
    "    def speak(self):\n",
    "        return \"woof\"  # function is again defined here with new meaning means function is overwritten\n",
    "\n",
    "\n",
    "# derived class 2\n",
    "class Cat(Animal):\n",
    "    def speak(self):\n",
    "        return \"meow\" # Again overwritten function here \n",
    "\n",
    "dog = Dog()\n",
    "cat = Cat()\n",
    "print(dog.speak())\n",
    "print(cat.speak())\n",
    "\n"
   ]
  },
  {
   "cell_type": "code",
   "execution_count": 16,
   "metadata": {},
   "outputs": [
    {
     "name": "stdout",
     "output_type": "stream",
     "text": [
      "woof\n",
      "meow\n"
     ]
    }
   ],
   "source": [
    "# function that demonstrate polymorphism\n",
    "def animal_speak(animal):\n",
    "    print(animal.speak())\n",
    "\n",
    "animal_speak(dog)\n",
    "animal_speak(cat)"
   ]
  },
  {
   "cell_type": "code",
   "execution_count": 17,
   "metadata": {},
   "outputs": [
    {
     "name": "stdout",
     "output_type": "stream",
     "text": [
      "The area is 20\n",
      "The area is 78.5\n"
     ]
    }
   ],
   "source": [
    "#polymorphism with functions and methods \n",
    "# Base class\n",
    "\n",
    "class Shape:\n",
    "    def area(self):\n",
    "        return \"the area of the figure\" \n",
    "    \n",
    "# Derived class 1\n",
    "class Rectangle(Shape):\n",
    "    def __init__(self,width,height):\n",
    "        self.width=width\n",
    "        self.height=height\n",
    "    def area(self):\n",
    "        return self.height*self.width\n",
    "    \n",
    "# derived class 2\n",
    "class Circle(Shape):\n",
    "    def __init__(self,radius):\n",
    "        self.radius = radius\n",
    "\n",
    "    def area(self):\n",
    "      return 3.14*self.radius*self.radius\n",
    "      \n",
    "#function that demonstrate polymorphism\n",
    "def print_area(shape):\n",
    "    print(f\"The area is {shape.area()}\")\n",
    "\n",
    "\n",
    "rectangle = Rectangle(4,5)\n",
    "circle = Circle(5)\n",
    "\n",
    "print_area(rectangle)\n",
    "print_area(circle)"
   ]
  },
  {
   "cell_type": "markdown",
   "metadata": {},
   "source": [
    "Polymorphism with abstract base class\n",
    "\n",
    "\n",
    "Abstrct base classes (ABCs) are used to define common methods for a group of related objects. They can enforce\n",
    "that derived classes implement particular methods, promoting consistently across different implementations"
   ]
  },
  {
   "cell_type": "code",
   "execution_count": 18,
   "metadata": {},
   "outputs": [
    {
     "name": "stdout",
     "output_type": "stream",
     "text": [
      "Car engine started\n",
      "Motorcycle engine started\n"
     ]
    }
   ],
   "source": [
    "from abc import ABC, abstractmethod\n",
    "\n",
    "# Define abstract base class\n",
    "class Vehicle(ABC):\n",
    "    @abstractmethod\n",
    "    def start_engine(self):\n",
    "        pass\n",
    "\n",
    "# Derived class 1\n",
    "class Car(Vehicle):\n",
    "    def start_engine(self):\n",
    "        return \"Car engine started\"\n",
    "    \n",
    "class Motorcycle(Vehicle):\n",
    "    def start_engine(self):\n",
    "        return \"Motorcycle engine started\"\n",
    "    \n",
    "# Function that demostrates polymorphism\n",
    "def start_vehicle(vehicle):\n",
    "    print(vehicle.start_engine())\n",
    "\n",
    "car = Car()\n",
    "motorcycle = Motorcycle()\n",
    "\n",
    "start_vehicle(car)\n",
    "start_vehicle(motorcycle)"
   ]
  }
 ],
 "metadata": {
  "kernelspec": {
   "display_name": "base",
   "language": "python",
   "name": "python3"
  },
  "language_info": {
   "codemirror_mode": {
    "name": "ipython",
    "version": 3
   },
   "file_extension": ".py",
   "mimetype": "text/x-python",
   "name": "python",
   "nbconvert_exporter": "python",
   "pygments_lexer": "ipython3",
   "version": "3.12.7"
  }
 },
 "nbformat": 4,
 "nbformat_minor": 2
}
