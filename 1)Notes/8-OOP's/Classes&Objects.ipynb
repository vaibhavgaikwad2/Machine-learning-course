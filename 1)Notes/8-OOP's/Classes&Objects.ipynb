{
 "cells": [
  {
   "cell_type": "markdown",
   "metadata": {},
   "source": [
    "Class is a blueprint for creating objects,attributes, methods"
   ]
  },
  {
   "cell_type": "code",
   "execution_count": null,
   "metadata": {},
   "outputs": [],
   "source": [
    "class Cars:\n",
    "    pass\n",
    "audi = Cars() # --> objects\n",
    "bmw = Cars()\n"
   ]
  },
  {
   "cell_type": "code",
   "execution_count": 1,
   "metadata": {},
   "outputs": [
    {
     "name": "stdout",
     "output_type": "stream",
     "text": [
      "kolya\n",
      "champi\n"
     ]
    }
   ],
   "source": [
    "# Instance variable and methods\n",
    "class Dog:\n",
    "    #constructor\n",
    "    def __init__(self,name,age):\n",
    "        self.name=name #--> instance variable / attributes\n",
    "        self.age=age\n",
    "\n",
    "#creating objects\n",
    "dog1=Dog(\"kolya\",3)\n",
    "dog2=Dog(\"champi\",2)\n",
    "\n",
    "print(dog1.name)\n",
    "print(dog2.name)"
   ]
  },
  {
   "cell_type": "code",
   "execution_count": 2,
   "metadata": {},
   "outputs": [
    {
     "name": "stdout",
     "output_type": "stream",
     "text": [
      "buddy says woof woof !!\n"
     ]
    }
   ],
   "source": [
    "# Defining a class with instance methods\n",
    "class Dog:\n",
    "    def __init__(self,name,age):\n",
    "        self.name=name\n",
    "        self.age=age\n",
    "    def bark(self):  # --> creating methods or functions in class\n",
    "        print(f\"{self.name} says woof woof !!\")\n",
    "\n",
    "dog1=Dog(\"buddy\",3)\n",
    "dog1.bark()\n"
   ]
  },
  {
   "cell_type": "code",
   "execution_count": 3,
   "metadata": {},
   "outputs": [
    {
     "name": "stdout",
     "output_type": "stream",
     "text": [
      "25000000 is withdraw . remaining balance is 499999975000000\n"
     ]
    }
   ],
   "source": [
    "# Modeling a bank account\n",
    "class BankAccount:\n",
    "    \n",
    "    def __init__(self,owner,balance=0):\n",
    "        self.owner=owner\n",
    "        self.balance=balance\n",
    "\n",
    "    def deposit(self,amount):\n",
    "        self.balance+=amount\n",
    "        print(f\"{amount} is deposited. new balance is {self.balance}\")\n",
    "    \n",
    "    def withdraw(self,amount):\n",
    "        if amount > self.balance:\n",
    "            print(\"Insufficient funds\")\n",
    "        else:\n",
    "            self.balance-=amount\n",
    "            print(f\"{amount} is withdraw . remaining balance is {self.balance}\")\n",
    "\n",
    "    def check_balance(self):\n",
    "        return self.balance\n",
    "    \n",
    "account = BankAccount(\"vaibhs\",500000000000000)\n",
    "account.withdraw(25000000)\n",
    "\n",
    "        "
   ]
  }
 ],
 "metadata": {
  "kernelspec": {
   "display_name": "base",
   "language": "python",
   "name": "python3"
  },
  "language_info": {
   "codemirror_mode": {
    "name": "ipython",
    "version": 3
   },
   "file_extension": ".py",
   "mimetype": "text/x-python",
   "name": "python",
   "nbconvert_exporter": "python",
   "pygments_lexer": "ipython3",
   "version": "3.12.7"
  }
 },
 "nbformat": 4,
 "nbformat_minor": 2
}
