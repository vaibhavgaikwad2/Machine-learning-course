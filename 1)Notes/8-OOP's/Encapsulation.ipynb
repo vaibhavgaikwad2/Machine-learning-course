{
 "cells": [
  {
   "cell_type": "markdown",
   "metadata": {},
   "source": [
    "Encapsulation --> It is the concept of wrapping data(variables) and methods(functions) together as a single unit.\n",
    "\n",
    "Abstraction --> it involves hiding complex implementations details and exposing only the necessary features"
   ]
  },
  {
   "cell_type": "code",
   "execution_count": null,
   "metadata": {},
   "outputs": [],
   "source": [
    "## Encapsulation with Getter and Setter methods"
   ]
  }
 ],
 "metadata": {
  "kernelspec": {
   "display_name": "base",
   "language": "python",
   "name": "python3"
  },
  "language_info": {
   "name": "python",
   "version": "3.12.7"
  }
 },
 "nbformat": 4,
 "nbformat_minor": 2
}
