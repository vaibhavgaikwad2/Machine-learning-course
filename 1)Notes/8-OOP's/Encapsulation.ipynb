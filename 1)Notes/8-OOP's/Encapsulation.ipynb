{
 "cells": [
  {
   "cell_type": "markdown",
   "metadata": {},
   "source": [
    "Encapsulation --> It is the concept of wrapping data(variables) and methods(functions) together as a single unit.\n",
    "\n",
    "Abstraction --> it involves hiding complex implementations details and exposing only the necessary features"
   ]
  },
  {
   "cell_type": "code",
   "execution_count": 3,
   "metadata": {},
   "outputs": [
    {
     "data": {
      "text/plain": [
       "'krish'"
      ]
     },
     "execution_count": 3,
     "metadata": {},
     "output_type": "execute_result"
    }
   ],
   "source": [
    "## Encapsulation with Getter and Setter methods\n",
    "# Access variables --> public, protected, private variables\n",
    "\n",
    "class Person:\n",
    "    def __init__(self,name,age):\n",
    "         self.name=name #public variables --> that access from outside the class\n",
    "         self.age=age  \n",
    "\n",
    "def get_name(person):\n",
    "     return person.name\n",
    "\n",
    "person = Person(\"krish\",34)\n",
    "get_name(person)"
   ]
  },
  {
   "cell_type": "code",
   "execution_count": null,
   "metadata": {},
   "outputs": [],
   "source": []
  }
 ],
 "metadata": {
  "kernelspec": {
   "display_name": "base",
   "language": "python",
   "name": "python3"
  },
  "language_info": {
   "codemirror_mode": {
    "name": "ipython",
    "version": 3
   },
   "file_extension": ".py",
   "mimetype": "text/x-python",
   "name": "python",
   "nbconvert_exporter": "python",
   "pygments_lexer": "ipython3",
   "version": "3.12.7"
  }
 },
 "nbformat": 4,
 "nbformat_minor": 2
}
