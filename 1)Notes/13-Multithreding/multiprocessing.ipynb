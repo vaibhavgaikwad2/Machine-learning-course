{
 "cells": [
  {
   "cell_type": "markdown",
   "metadata": {},
   "source": [
    "# Multiprocessing"
   ]
  },
  {
   "cell_type": "markdown",
   "metadata": {},
   "source": [
    "Processes that runs in parallel\n",
    "\n",
    "\n",
    "\n",
    "CPU-Bound tasks --> Tasks that are heavy on CPU Usage\n",
    "(E.g--> mathematical computation,data processing)\n",
    "\n",
    "\n",
    "Parallel execution --> multiple cores of the cpu\n"
   ]
  },
  {
   "cell_type": "code",
   "execution_count": 8,
   "metadata": {},
   "outputs": [],
   "source": [
    "import multiprocessing"
   ]
  },
  {
   "cell_type": "code",
   "execution_count": 9,
   "metadata": {},
   "outputs": [
    {
     "name": "stdout",
     "output_type": "stream",
     "text": [
      "1738061417.4469302\n"
     ]
    }
   ],
   "source": [
    "import multiprocessing\n",
    "\n",
    "import time \n",
    "def square_numbers():\n",
    "    for i in range(5):\n",
    "        time.sleep(1)\n",
    "        print(f\"Square:{i*i}\")\n",
    "\n",
    "def cube_numbers():\n",
    "    for i in range(5):\n",
    "        time.sleep(1.5)\n",
    "        print(f\"cube: {i*i*i}\")\n",
    "\n",
    "# Creating entry point\n",
    "if __name__==\"__main__\":\n",
    "\n",
    "\n",
    "    # Creating two processes\n",
    "    p1=multiprocessing.Process(target=square_numbers)\n",
    "    p2=multiprocessing.Process(target=cube_numbers)\n",
    "\n",
    "    # Start the process\n",
    "    p1.start()\n",
    "    p2.start()\n",
    "\n",
    "    #Wait for the process to complete\n",
    "\n",
    "    p1.join()\n",
    "    p2.join()\n",
    "\n",
    "    finished_time=time.time()\n",
    "    print(finished_time)\n"
   ]
  },
  {
   "cell_type": "code",
   "execution_count": null,
   "metadata": {},
   "outputs": [],
   "source": []
  }
 ],
 "metadata": {
  "kernelspec": {
   "display_name": "base",
   "language": "python",
   "name": "python3"
  },
  "language_info": {
   "codemirror_mode": {
    "name": "ipython",
    "version": 3
   },
   "file_extension": ".py",
   "mimetype": "text/x-python",
   "name": "python",
   "nbconvert_exporter": "python",
   "pygments_lexer": "ipython3",
   "version": "3.12.7"
  }
 },
 "nbformat": 4,
 "nbformat_minor": 2
}
