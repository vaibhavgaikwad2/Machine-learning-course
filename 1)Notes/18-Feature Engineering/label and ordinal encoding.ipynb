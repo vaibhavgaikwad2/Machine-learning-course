{
 "cells": [
  {
   "cell_type": "markdown",
   "metadata": {},
   "source": [
    "# Label Encoding \n",
    "\n",
    "Label encoding involves assigning a unique numerical label to each category in the variable. the labels are usually assigned in alphabetical order or based on the frequency of the categories.\n",
    "\n",
    "\n",
    "for ex: we can represent color using label encoding as follows:\n",
    "\n",
    "Red: 1\n",
    "\n",
    "Green:2\n",
    "\n",
    "Blue:3"
   ]
  }
 ],
 "metadata": {
  "language_info": {
   "name": "python"
  }
 },
 "nbformat": 4,
 "nbformat_minor": 2
}
