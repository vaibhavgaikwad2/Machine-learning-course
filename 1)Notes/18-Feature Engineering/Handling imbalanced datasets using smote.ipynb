{
 "cells": [
  {
   "cell_type": "markdown",
   "metadata": {},
   "source": [
    "# SMOTE(Synthetic Minority Oversampling Technique)"
   ]
  },
  {
   "cell_type": "markdown",
   "metadata": {},
   "source": [
    "it is used when minority class has significantly fewer instances than the majority class.SMOTE involves generating synthetic instances of the minority class by interpolating existing instances."
   ]
  },
  {
   "cell_type": "code",
   "execution_count": 1,
   "metadata": {},
   "outputs": [],
   "source": [
    "from sklearn.datasets import make_classification"
   ]
  },
  {
   "cell_type": "markdown",
   "metadata": {},
   "source": [
    "n_samples=1000: Creates 1000 data points (samples).\n",
    "\n",
    "n_features=2: Each sample has 2 features (X1, X2).\n",
    "\n",
    "n_redundant=0: No redundant features; all features contain useful information.\n",
    "\n",
    "n_clusters_per_class=1: Each class will have 1 cluster.\n",
    "\n",
    "weights=[0.90]: The first class (label 0) gets 90% of the samples, creating imbalanced data.\n",
    "\n",
    "random_state=12: Ensures reproducibility"
   ]
  },
  {
   "cell_type": "code",
   "execution_count": null,
   "metadata": {},
   "outputs": [],
   "source": [
    "# creating synthetic dataset(variables)\n",
    "\n",
    "x,y=make_classification()"
   ]
  }
 ],
 "metadata": {
  "kernelspec": {
   "display_name": "base",
   "language": "python",
   "name": "python3"
  },
  "language_info": {
   "codemirror_mode": {
    "name": "ipython",
    "version": 3
   },
   "file_extension": ".py",
   "mimetype": "text/x-python",
   "name": "python",
   "nbconvert_exporter": "python",
   "pygments_lexer": "ipython3",
   "version": "3.12.7"
  }
 },
 "nbformat": 4,
 "nbformat_minor": 2
}
