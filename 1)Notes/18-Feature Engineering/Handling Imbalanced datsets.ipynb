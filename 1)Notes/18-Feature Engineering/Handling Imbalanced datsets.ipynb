{
 "cells": [
  {
   "cell_type": "markdown",
   "metadata": {},
   "source": [
    "imbalanced means if model is based on binary classification--> if their is more datapoints about one output then model is biased towards that output and eventually this model will give only that op"
   ]
  },
  {
   "cell_type": "markdown",
   "metadata": {},
   "source": [
    "their is two types to handle this imbalanced dataset\n"
   ]
  }
 ],
 "metadata": {
  "language_info": {
   "name": "python"
  }
 },
 "nbformat": 4,
 "nbformat_minor": 2
}
