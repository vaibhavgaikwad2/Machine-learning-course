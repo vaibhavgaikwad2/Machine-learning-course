{
 "cells": [
  {
   "cell_type": "markdown",
   "metadata": {},
   "source": [
    "imbalanced means if model is based on binary classification--> if their is more datapoints about one output then model is biased towards that output and eventually this model will give only that op"
   ]
  },
  {
   "cell_type": "markdown",
   "metadata": {},
   "source": [
    "their is two types to handle this imbalanced dataset\n",
    "1) Up sampling --> means increasing output of dataset which are having less outputs as datapoints\n",
    "2) Down sampling --> means decreasing output of datasets which are having more output as datapoints\n"
   ]
  },
  {
   "cell_type": "markdown",
   "metadata": {},
   "source": []
  }
 ],
 "metadata": {
  "language_info": {
   "name": "python"
  }
 },
 "nbformat": 4,
 "nbformat_minor": 2
}
