{
 "cells": [
  {
   "cell_type": "markdown",
   "metadata": {},
   "source": [
    "# Encoding \n",
    "\n",
    "It means that converting categorial data into useful numerical value that can machine learning model can understand it "
   ]
  },
  {
   "cell_type": "markdown",
   "metadata": {},
   "source": [
    "# 1) Nominal / One Hot Encoding"
   ]
  },
  {
   "cell_type": "markdown",
   "metadata": {},
   "source": [
    "there is problem with ohe, model is getting overtrained because of this means overfitting issue arised"
   ]
  },
  {
   "cell_type": "markdown",
   "metadata": {},
   "source": [
    "R       G      B\n",
    "\n",
    "1       0      0  \n",
    "\n",
    "0       1      0\n",
    "\n",
    "0       0      1 \n",
    " \n",
    "\n",
    "\n",
    "\n",
    " This is way to convert categorial value into binary data\n"
   ]
  },
  {
   "cell_type": "markdown",
   "metadata": {},
   "source": []
  }
 ],
 "metadata": {
  "language_info": {
   "name": "python"
  }
 },
 "nbformat": 4,
 "nbformat_minor": 2
}
