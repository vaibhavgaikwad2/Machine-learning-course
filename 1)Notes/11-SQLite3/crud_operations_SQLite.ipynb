{
 "cells": [
  {
   "cell_type": "markdown",
   "metadata": {},
   "source": [
    "# SQL and SQLite"
   ]
  },
  {
   "cell_type": "markdown",
   "metadata": {},
   "source": [
    "SQL (Structured Query Language) is a standard language for managing and manipulating relational databases.\n",
    "SQLite is self-contained, serverless and zero configuration database engine that is widely used for embedded database system"
   ]
  },
  {
   "cell_type": "code",
   "execution_count": 4,
   "metadata": {},
   "outputs": [],
   "source": [
    "import sqlite3 "
   ]
  },
  {
   "cell_type": "code",
   "execution_count": 5,
   "metadata": {},
   "outputs": [],
   "source": [
    "# Creating a connection to database\n",
    "\n",
    "connection = sqlite3.connect('example.db')\n"
   ]
  },
  {
   "cell_type": "code",
   "execution_count": 6,
   "metadata": {},
   "outputs": [],
   "source": [
    "# Creating cursor object that iterate through tables and rows\n",
    "\n",
    "cursorrr=connection.cursor()"
   ]
  },
  {
   "cell_type": "code",
   "execution_count": 7,
   "metadata": {},
   "outputs": [],
   "source": [
    "# Creating a table in example.db database\n",
    "\n",
    "cursorrr.execute('''\n",
    "Create  Table if Not Exists employees(\n",
    "    id Integer Primary key,                   \n",
    "    name TExt Not Null,\n",
    "    age Integer,\n",
    "    department text\n",
    "    )\n",
    "\n",
    "''')   #--> above all are sqlite statements\n",
    "\n",
    "# Commit the changes \n",
    "connection.commit()"
   ]
  },
  {
   "cell_type": "code",
   "execution_count": 8,
   "metadata": {},
   "outputs": [],
   "source": [
    "# Inserting the data in sqlite table\n",
    "\n",
    "cursorrr.execute('''\n",
    "Insert Into employees(name,age,department)\n",
    "                values('vaibhs',20,'ml Engineer')\n",
    "''')\n",
    "\n",
    "cursorrr.execute('''\n",
    "Insert Into employees(name,age,department)\n",
    "                values('mark',23,'fullstack Engineer')\n",
    "''')\n",
    "\n",
    "\n",
    "cursorrr.execute('''\n",
    "Insert Into employees(name,age,department)\n",
    "                values('jonh',25,'data Engineer')\n",
    "''')\n",
    "\n",
    "cursorrr.execute('''\n",
    "Insert Into employees(name,age,department)\n",
    "                values('peter',22,'ml Engineer')\n",
    "''')\n",
    "\n",
    "connection.commit()"
   ]
  },
  {
   "cell_type": "code",
   "execution_count": 9,
   "metadata": {},
   "outputs": [
    {
     "name": "stdout",
     "output_type": "stream",
     "text": [
      "(1, 'vaibhs', 20, 'ml Engineer')\n",
      "(2, 'mark', 23, 'fullstack Engineer')\n",
      "(3, 'jonh', 25, 'data Engineer')\n",
      "(4, 'peter', 22, 'ml Engineer')\n"
     ]
    }
   ],
   "source": [
    "# Query the data from table\n",
    "\n",
    "cursorrr.execute('Select * from employees')\n",
    "rows=cursorrr.fetchall()\n",
    "\n",
    "# Print the queried data\n",
    "for row in rows:\n",
    "    print(row)"
   ]
  },
  {
   "cell_type": "code",
   "execution_count": 10,
   "metadata": {},
   "outputs": [],
   "source": [
    "# Update the data in the table\n",
    "cursorrr.execute('''\n",
    "UPDATE employees\n",
    "Set age=21\n",
    "where name='vaibhs'\n",
    "''')\n",
    "\n",
    "connection.commit()"
   ]
  },
  {
   "cell_type": "code",
   "execution_count": 11,
   "metadata": {},
   "outputs": [
    {
     "name": "stdout",
     "output_type": "stream",
     "text": [
      "(1, 'vaibhs', 21, 'ml Engineer')\n",
      "(2, 'mark', 23, 'fullstack Engineer')\n",
      "(3, 'jonh', 25, 'data Engineer')\n",
      "(4, 'peter', 22, 'ml Engineer')\n"
     ]
    }
   ],
   "source": [
    "cursorrr.execute('Select * from employees')\n",
    "rows=cursorrr.fetchall()\n",
    "\n",
    "for row in rows:\n",
    "    print(row)"
   ]
  },
  {
   "cell_type": "code",
   "execution_count": 12,
   "metadata": {},
   "outputs": [],
   "source": [
    "# Delete data from table\n",
    "cursorrr.execute('''\n",
    "Delete from employees\n",
    "where name='jonh'\n",
    "''')\n",
    "\n",
    "connection.commit()"
   ]
  },
  {
   "cell_type": "code",
   "execution_count": 13,
   "metadata": {},
   "outputs": [
    {
     "name": "stdout",
     "output_type": "stream",
     "text": [
      "(1, 'vaibhs', 21, 'ml Engineer')\n",
      "(2, 'mark', 23, 'fullstack Engineer')\n",
      "(4, 'peter', 22, 'ml Engineer')\n"
     ]
    }
   ],
   "source": [
    "cursorrr.execute('Select * from employees')\n",
    "rows=cursorrr.fetchall()\n",
    "\n",
    "for row in rows:\n",
    "    print(row)"
   ]
  },
  {
   "cell_type": "code",
   "execution_count": 14,
   "metadata": {},
   "outputs": [],
   "source": [
    "## Working Wwith Sales Data\n",
    "# Connect to an SQLite database\n",
    "connection = sqlite3.connect('sales_data.db')\n",
    "cursor = connection.cursor()\n",
    "\n",
    "# Create a table for sales data\n",
    "cursor.execute('''\n",
    "CREATE TABLE IF NOT EXISTS sales (\n",
    "    id INTEGER PRIMARY KEY,\n",
    "    date TEXT NOT NULL,\n",
    "    product TEXT NOT NULL,\n",
    "    sales INTEGER,\n",
    "    region TEXT\n",
    ")\n",
    "''')\n",
    "\n",
    "# Insert data into the sales table\n",
    "sales_data = [\n",
    "    ('2023-01-01', 'Product1', 100, 'North'),\n",
    "    ('2023-01-02', 'Product2', 200, 'South'),\n",
    "    ('2023-01-03', 'Product1', 150, 'East'),\n",
    "    ('2023-01-04', 'Product3', 250, 'West'),\n",
    "    ('2023-01-05', 'Product2', 300, 'North')\n",
    "]\n",
    "\n",
    "# This is used to insert all data at single commit\n",
    "cursor.executemany('''\n",
    "Insert into sales(date,product,sales,region)\n",
    "                   values(?,?,?,?)\n",
    "''',sales_data)\n",
    "\n",
    "connection.commit()"
   ]
  },
  {
   "cell_type": "code",
   "execution_count": 17,
   "metadata": {},
   "outputs": [
    {
     "name": "stdout",
     "output_type": "stream",
     "text": [
      "(1, '2023-01-01', 'Product1', 100, 'North')\n",
      "(2, '2023-01-02', 'Product2', 200, 'South')\n",
      "(3, '2023-01-03', 'Product1', 150, 'East')\n",
      "(4, '2023-01-04', 'Product3', 250, 'West')\n",
      "(5, '2023-01-05', 'Product2', 300, 'North')\n"
     ]
    }
   ],
   "source": [
    "cursor.execute('Select * from sales')\n",
    "rows=cursor.fetchall()\n",
    "\n",
    "for row in rows:\n",
    "    print(row)"
   ]
  },
  {
   "cell_type": "code",
   "execution_count": 18,
   "metadata": {},
   "outputs": [],
   "source": [
    "# close the connection \n",
    "\n",
    "connection.close()"
   ]
  },
  {
   "cell_type": "markdown",
   "metadata": {},
   "source": [
    "Now this will shows error because connection is closed"
   ]
  },
  {
   "cell_type": "code",
   "execution_count": 19,
   "metadata": {},
   "outputs": [
    {
     "ename": "ProgrammingError",
     "evalue": "Cannot operate on a closed database.",
     "output_type": "error",
     "traceback": [
      "\u001b[1;31m---------------------------------------------------------------------------\u001b[0m",
      "\u001b[1;31mProgrammingError\u001b[0m                          Traceback (most recent call last)",
      "Cell \u001b[1;32mIn[19], line 1\u001b[0m\n\u001b[1;32m----> 1\u001b[0m \u001b[43mcursor\u001b[49m\u001b[38;5;241;43m.\u001b[39;49m\u001b[43mexecute\u001b[49m\u001b[43m(\u001b[49m\u001b[38;5;124;43m'\u001b[39;49m\u001b[38;5;124;43mSelect * from sales\u001b[39;49m\u001b[38;5;124;43m'\u001b[39;49m\u001b[43m)\u001b[49m\n\u001b[0;32m      2\u001b[0m rows\u001b[38;5;241m=\u001b[39mcursor\u001b[38;5;241m.\u001b[39mfetchall()\n\u001b[0;32m      4\u001b[0m \u001b[38;5;28;01mfor\u001b[39;00m row \u001b[38;5;129;01min\u001b[39;00m rows:\n",
      "\u001b[1;31mProgrammingError\u001b[0m: Cannot operate on a closed database."
     ]
    }
   ],
   "source": [
    "cursor.execute('Select * from sales')\n",
    "rows=cursor.fetchall()\n",
    "\n",
    "for row in rows:\n",
    "    print(row)"
   ]
  }
 ],
 "metadata": {
  "kernelspec": {
   "display_name": "base",
   "language": "python",
   "name": "python3"
  },
  "language_info": {
   "codemirror_mode": {
    "name": "ipython",
    "version": 3
   },
   "file_extension": ".py",
   "mimetype": "text/x-python",
   "name": "python",
   "nbconvert_exporter": "python",
   "pygments_lexer": "ipython3",
   "version": "3.12.7"
  }
 },
 "nbformat": 4,
 "nbformat_minor": 2
}
