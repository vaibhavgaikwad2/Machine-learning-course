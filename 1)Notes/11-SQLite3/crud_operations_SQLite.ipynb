{
 "cells": [
  {
   "cell_type": "markdown",
   "metadata": {},
   "source": [
    "# SQL and SQLite"
   ]
  },
  {
   "cell_type": "markdown",
   "metadata": {},
   "source": [
    "SQL (Structured Query Language) is a standard language for managing and manipulating relational databases.\n",
    "SQLite is self-contained, serverless and zero configuration database engine that is widely used for embedded database system"
   ]
  },
  {
   "cell_type": "code",
   "execution_count": 4,
   "metadata": {},
   "outputs": [],
   "source": [
    "import sqlite3 "
   ]
  },
  {
   "cell_type": "code",
   "execution_count": 5,
   "metadata": {},
   "outputs": [],
   "source": [
    "# Creating a connection to database\n",
    "\n",
    "connection = sqlite3.connect('example.db')\n"
   ]
  },
  {
   "cell_type": "code",
   "execution_count": 6,
   "metadata": {},
   "outputs": [],
   "source": [
    "# Creating cursor object that iterate through tables and rows\n",
    "\n",
    "cursorrr=connection.cursor()"
   ]
  },
  {
   "cell_type": "code",
   "execution_count": 7,
   "metadata": {},
   "outputs": [],
   "source": [
    "# Creating a table in example.db database\n",
    "\n",
    "cursorrr.execute('''\n",
    "Create  Table if Not Exists employees(\n",
    "    id Integer Primary key,                   \n",
    "    name TExt Not Null,\n",
    "    age Integer,\n",
    "    department text\n",
    "    )\n",
    "\n",
    "''')   #--> above all are sqlite statements\n",
    "\n",
    "# Commit the changes \n",
    "connection.commit()"
   ]
  },
  {
   "cell_type": "code",
   "execution_count": 8,
   "metadata": {},
   "outputs": [],
   "source": [
    "# Inserting the data in sqlite table\n",
    "\n",
    "cursorrr.execute('''\n",
    "Insert Into employees(name,age,department)\n",
    "                values('vaibhs',20,'ml Engineer')\n",
    "''')\n",
    "\n",
    "cursorrr.execute('''\n",
    "Insert Into employees(name,age,department)\n",
    "                values('mark',23,'fullstack Engineer')\n",
    "''')\n",
    "\n",
    "\n",
    "cursorrr.execute('''\n",
    "Insert Into employees(name,age,department)\n",
    "                values('jonh',25,'data Engineer')\n",
    "''')\n",
    "\n",
    "cursorrr.execute('''\n",
    "Insert Into employees(name,age,department)\n",
    "                values('peter',22,'ml Engineer')\n",
    "''')\n",
    "\n",
    "connection.commit()"
   ]
  },
  {
   "cell_type": "code",
   "execution_count": 9,
   "metadata": {},
   "outputs": [
    {
     "name": "stdout",
     "output_type": "stream",
     "text": [
      "(1, 'vaibhs', 20, 'ml Engineer')\n",
      "(2, 'mark', 23, 'fullstack Engineer')\n",
      "(3, 'jonh', 25, 'data Engineer')\n",
      "(4, 'peter', 22, 'ml Engineer')\n"
     ]
    }
   ],
   "source": [
    "# Query the data from table\n",
    "\n",
    "cursorrr.execute('Select * from employees')\n",
    "rows=cursorrr.fetchall()\n",
    "\n",
    "# Print the queried data\n",
    "for row in rows:\n",
    "    print(row)"
   ]
  },
  {
   "cell_type": "code",
   "execution_count": null,
   "metadata": {},
   "outputs": [],
   "source": []
  }
 ],
 "metadata": {
  "kernelspec": {
   "display_name": "base",
   "language": "python",
   "name": "python3"
  },
  "language_info": {
   "codemirror_mode": {
    "name": "ipython",
    "version": 3
   },
   "file_extension": ".py",
   "mimetype": "text/x-python",
   "name": "python",
   "nbconvert_exporter": "python",
   "pygments_lexer": "ipython3",
   "version": "3.12.7"
  }
 },
 "nbformat": 4,
 "nbformat_minor": 2
}
