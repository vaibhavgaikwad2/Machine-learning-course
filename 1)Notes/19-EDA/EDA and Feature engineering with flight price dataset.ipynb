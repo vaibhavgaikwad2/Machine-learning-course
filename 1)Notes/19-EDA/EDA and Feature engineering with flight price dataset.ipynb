{
 "cells": [
  {
   "cell_type": "markdown",
   "id": "5b260f37",
   "metadata": {},
   "source": [
    "## EDA And Feature Engineering Flight Price Prediction\n",
    "check the dataset info below\n",
    "https://www.kaggle.com/datasets/shubhambathwal/flight-price-prediction"
   ]
  },
  {
   "cell_type": "markdown",
   "id": "49d5e879",
   "metadata": {},
   "source": [
    "### FEATURES\n",
    "The various features of the cleaned dataset are explained below:\n",
    "1) Airline: The name of the airline company is stored in the airline column. It is a categorical feature having 6 different airlines.\n",
    "2) Flight: Flight stores information regarding the plane's flight code. It is a categorical feature.\n",
    "3) Source City: City from which the flight takes off. It is a categorical feature having 6 unique cities.\n",
    "4) Departure Time: This is a derived categorical feature obtained created by grouping time periods into bins. It stores information about the departure time and have 6 unique time labels.\n",
    "5) Stops: A categorical feature with 3 distinct values that stores the number of stops between the source and destination cities.\n",
    "6) Arrival Time: This is a derived categorical feature created by grouping time intervals into bins. It has six distinct time labels and keeps information about the arrival time.\n",
    "7) Destination City: City where the flight will land. It is a categorical feature having 6 unique cities.\n",
    "8) Class: A categorical feature that contains information on seat class; it has two distinct values: Business and Economy.\n",
    "9) Duration: A continuous feature that displays the overall amount of time it takes to travel between cities in hours.\n",
    "10)Days Left: This is a derived characteristic that is calculated by subtracting the trip date by the booking date.\n",
    "11) Price: Target variable stores information of the ticket price."
   ]
  },
  {
   "cell_type": "code",
   "execution_count": 1,
   "id": "bad70ff2",
   "metadata": {},
   "outputs": [],
   "source": [
    "import pandas as pd\n",
    "import numpy as np\n",
    "import matplotlib.pyplot as plt\n",
    "import seaborn as sns\n"
   ]
  },
  {
   "cell_type": "code",
   "execution_count": 3,
   "id": "8a3992c8",
   "metadata": {},
   "outputs": [],
   "source": [
    "df=pd.read_excel('flight_price.xlsx')"
   ]
  },
  {
   "cell_type": "code",
   "execution_count": 4,
   "id": "4c740cd7",
   "metadata": {},
   "outputs": [
    {
     "data": {
      "text/plain": [
       "(10683, 11)"
      ]
     },
     "execution_count": 4,
     "metadata": {},
     "output_type": "execute_result"
    }
   ],
   "source": [
    "df.shape"
   ]
  },
  {
   "cell_type": "code",
   "execution_count": 5,
   "id": "880419ee",
   "metadata": {},
   "outputs": [
    {
     "name": "stdout",
     "output_type": "stream",
     "text": [
      "<class 'pandas.core.frame.DataFrame'>\n",
      "RangeIndex: 10683 entries, 0 to 10682\n",
      "Data columns (total 11 columns):\n",
      " #   Column           Non-Null Count  Dtype \n",
      "---  ------           --------------  ----- \n",
      " 0   Airline          10683 non-null  object\n",
      " 1   Date_of_Journey  10683 non-null  object\n",
      " 2   Source           10683 non-null  object\n",
      " 3   Destination      10683 non-null  object\n",
      " 4   Route            10682 non-null  object\n",
      " 5   Dep_Time         10683 non-null  object\n",
      " 6   Arrival_Time     10683 non-null  object\n",
      " 7   Duration         10683 non-null  object\n",
      " 8   Total_Stops      10682 non-null  object\n",
      " 9   Additional_Info  10683 non-null  object\n",
      " 10  Price            10683 non-null  int64 \n",
      "dtypes: int64(1), object(10)\n",
      "memory usage: 918.2+ KB\n"
     ]
    }
   ],
   "source": [
    "df.info()"
   ]
  },
  {
   "cell_type": "code",
   "execution_count": null,
   "id": "6ed388c6",
   "metadata": {},
   "outputs": [],
   "source": []
  }
 ],
 "metadata": {
  "kernelspec": {
   "display_name": "base",
   "language": "python",
   "name": "python3"
  },
  "language_info": {
   "codemirror_mode": {
    "name": "ipython",
    "version": 3
   },
   "file_extension": ".py",
   "mimetype": "text/x-python",
   "name": "python",
   "nbconvert_exporter": "python",
   "pygments_lexer": "ipython3",
   "version": "3.12.7"
  }
 },
 "nbformat": 4,
 "nbformat_minor": 5
}
