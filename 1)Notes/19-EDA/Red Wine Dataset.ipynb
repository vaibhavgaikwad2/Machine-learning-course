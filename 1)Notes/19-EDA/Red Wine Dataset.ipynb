{
 "cells": [
  {
   "cell_type": "markdown",
   "metadata": {},
   "source": [
    "# EDA\n",
    "\n",
    "EDA is all about understaing about datasets\n"
   ]
  },
  {
   "cell_type": "markdown",
   "metadata": {},
   "source": [
    "EDA With Red Wine Data\n",
    "\n",
    "Data Set Information:\n",
    "\n",
    "The two datasets are related to red and white variants of the Portuguese \"Vinho Verde\" wine.  Due to privacy and logistic issues, only physicochemical (inputs) and sensory (the output) variables are available (e.g. there is no data about grape types, wine brand, wine selling price, etc.).\n",
    "\n",
    "These datasets can be viewed as classification or regression tasks. The classes are ordered and not balanced (e.g. there are many more normal wines than excellent or poor ones). Outlier detection algorithms could be used to detect the few excellent or poor wines. Also, we are not sure if all input variables are relevant. So it could be interesting to test feature selection methods.\n",
    "\n",
    "\n",
    "Attribute Information:\n",
    "\n",
    "Input variables (based on physicochemical tests):\n",
    "- 1 - fixed acidity\n",
    "- 2 - volatile acidity\n",
    "- 3 - citric acid\n",
    "- 4 - residual sugar\n",
    "- 5 - chlorides\n",
    "- 6 - free sulfur dioxide\n",
    "- 7 - total sulfur dioxide\n",
    "- 8 - density\n",
    "- 9 - pH\n",
    "- 10 - sulphates\n",
    "- 11 - alcohol"
   ]
  },
  {
   "cell_type": "markdown",
   "metadata": {},
   "source": []
  }
 ],
 "metadata": {
  "language_info": {
   "name": "python"
  }
 },
 "nbformat": 4,
 "nbformat_minor": 2
}
