{
 "cells": [
  {
   "cell_type": "code",
   "execution_count": 1,
   "metadata": {},
   "outputs": [],
   "source": [
    "\"\"\" \n",
    " Tuples --> Tuples are ordered collection of items that are immutable\n",
    " similar to python but their immutability makes them different\n",
    " \"\"\""
   ]
  },
  {
   "cell_type": "code",
   "execution_count": 3,
   "metadata": {},
   "outputs": [
    {
     "name": "stdout",
     "output_type": "stream",
     "text": [
      "(1, 2, 3, 4)\n",
      "<class 'tuple'>\n"
     ]
    }
   ],
   "source": [
    "# Creating a tuple\n",
    "\n",
    "tup = (1,2,3,4)\n",
    "print(tup)\n",
    "print(type(tup))"
   ]
  },
  {
   "cell_type": "code",
   "execution_count": 6,
   "metadata": {},
   "outputs": [
    {
     "name": "stdout",
     "output_type": "stream",
     "text": [
      "<class 'list'>\n",
      "<class 'tuple'>\n"
     ]
    }
   ],
   "source": [
    "lst = list()\n",
    "print(type(lst))\n",
    "tup = tuple()\n",
    "print(type(tup))"
   ]
  },
  {
   "cell_type": "code",
   "execution_count": 9,
   "metadata": {},
   "outputs": [
    {
     "name": "stdout",
     "output_type": "stream",
     "text": [
      "<class 'tuple'>\n"
     ]
    }
   ],
   "source": [
    "# a tuple can be converted into list and its vice versa is also possible\n",
    "num = tuple([1,2,3,4,5])\n",
    "num\n",
    "print(type(num))"
   ]
  },
  {
   "cell_type": "code",
   "execution_count": 12,
   "metadata": {},
   "outputs": [
    {
     "name": "stdout",
     "output_type": "stream",
     "text": [
      "[1, 2, 3, 45]\n",
      "<class 'list'>\n"
     ]
    }
   ],
   "source": [
    "num = list((1,2,3,45,))\n",
    "print(num)\n",
    "print(type(num))"
   ]
  },
  {
   "cell_type": "code",
   "execution_count": 20,
   "metadata": {},
   "outputs": [
    {
     "name": "stdout",
     "output_type": "stream",
     "text": [
      "3\n",
      "5\n",
      "(5, 45, 4, 3, 2, 1)\n",
      "(2, 5)\n"
     ]
    }
   ],
   "source": [
    "# Accessing Tuple Elements\n",
    "num = (1,2,3,4,45,5)\n",
    "print(num[2])\n",
    "print(num[-1])\n",
    "print(num[::-1])\n",
    "print(num[1::4]) # --> start at index 1 and takes every 4th element\n"
   ]
  },
  {
   "cell_type": "code",
   "execution_count": 24,
   "metadata": {},
   "outputs": [
    {
     "name": "stdout",
     "output_type": "stream",
     "text": [
      "(7, 8, 9, 6, 9, 'hello world', 1, 2, 3, 4, 45, 5)\n",
      "(7, 8, 9, 6, 9, 'hello world', 7, 8, 9, 6, 9, 'hello world', 7, 8, 9, 6, 9, 'hello world')\n"
     ]
    }
   ],
   "source": [
    "# Tuples operations\n",
    "tup1 = (7,8,9,6,9,\"hello world\")\n",
    "\n",
    "# 1) Concatenation\n",
    "print(tup1 + num)\n",
    "\n",
    "# 2) Multiplying tuple by a number \n",
    "print(tup1 * 3)\n"
   ]
  },
  {
   "cell_type": "code",
   "execution_count": 23,
   "metadata": {},
   "outputs": [],
   "source": [
    "#Immutable nature of tuple --> means elements can not be changed once it assigned\n",
    "\n"
   ]
  },
  {
   "cell_type": "code",
   "execution_count": 30,
   "metadata": {},
   "outputs": [
    {
     "name": "stdout",
     "output_type": "stream",
     "text": [
      "2\n",
      "1\n"
     ]
    }
   ],
   "source": [
    "# Tuple Methods\n",
    "# 1) Count --> it measures how many times this number is repeated in tuple\n",
    "print(tup1.count(9))\n",
    "\n",
    "# 2) Index --> it returns the index of that element that passed in paranthesis\n",
    "print(tup1.index(8))\n"
   ]
  },
  {
   "cell_type": "code",
   "execution_count": null,
   "metadata": {},
   "outputs": [],
   "source": [
    "# packing and unpacking tuple\n",
    " "
   ]
  }
 ],
 "metadata": {
  "kernelspec": {
   "display_name": "Python 3",
   "language": "python",
   "name": "python3"
  },
  "language_info": {
   "codemirror_mode": {
    "name": "ipython",
    "version": 3
   },
   "file_extension": ".py",
   "mimetype": "text/x-python",
   "name": "python",
   "nbconvert_exporter": "python",
   "pygments_lexer": "ipython3",
   "version": "3.12.1"
  }
 },
 "nbformat": 4,
 "nbformat_minor": 2
}
