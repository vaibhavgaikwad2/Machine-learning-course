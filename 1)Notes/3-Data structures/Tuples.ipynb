{
 "cells": [
  {
   "cell_type": "code",
   "execution_count": 1,
   "metadata": {},
   "outputs": [],
   "source": [
    "\"\"\" \n",
    " Tuples --> Tuples are ordered collection of items that are immutable\n",
    " similar to python but their immutability makes them different\n",
    " \"\"\""
   ]
  },
  {
   "cell_type": "code",
   "execution_count": 3,
   "metadata": {},
   "outputs": [
    {
     "name": "stdout",
     "output_type": "stream",
     "text": [
      "(1, 2, 3, 4)\n",
      "<class 'tuple'>\n"
     ]
    }
   ],
   "source": [
    "# Creating a tuple\n",
    "\n",
    "tup = (1,2,3,4)\n",
    "print(tup)\n",
    "print(type(tup))"
   ]
  },
  {
   "cell_type": "code",
   "execution_count": 6,
   "metadata": {},
   "outputs": [
    {
     "name": "stdout",
     "output_type": "stream",
     "text": [
      "<class 'list'>\n",
      "<class 'tuple'>\n"
     ]
    }
   ],
   "source": [
    "lst = list()\n",
    "print(type(lst))\n",
    "tup = tuple()\n",
    "print(type(tup))"
   ]
  },
  {
   "cell_type": "code",
   "execution_count": 9,
   "metadata": {},
   "outputs": [
    {
     "name": "stdout",
     "output_type": "stream",
     "text": [
      "<class 'tuple'>\n"
     ]
    }
   ],
   "source": [
    "# a tuple can be converted into list and its vice versa is also possible\n",
    "num = tuple([1,2,3,4,5])\n",
    "num\n",
    "print(type(num))"
   ]
  },
  {
   "cell_type": "code",
   "execution_count": 12,
   "metadata": {},
   "outputs": [
    {
     "name": "stdout",
     "output_type": "stream",
     "text": [
      "[1, 2, 3, 45]\n",
      "<class 'list'>\n"
     ]
    }
   ],
   "source": [
    "num = list((1,2,3,45,))\n",
    "print(num)\n",
    "print(type(num))"
   ]
  },
  {
   "cell_type": "code",
   "execution_count": 20,
   "metadata": {},
   "outputs": [
    {
     "name": "stdout",
     "output_type": "stream",
     "text": [
      "3\n",
      "5\n",
      "(5, 45, 4, 3, 2, 1)\n",
      "(2, 5)\n"
     ]
    }
   ],
   "source": [
    "# Accessing Tuple Elements\n",
    "num = (1,2,3,4,45,5)\n",
    "print(num[2])\n",
    "print(num[-1])\n",
    "print(num[::-1])\n",
    "print(num[1::4]) # --> start at index 1 and takes every 4th element\n"
   ]
  },
  {
   "cell_type": "code",
   "execution_count": 24,
   "metadata": {},
   "outputs": [
    {
     "name": "stdout",
     "output_type": "stream",
     "text": [
      "(7, 8, 9, 6, 9, 'hello world', 1, 2, 3, 4, 45, 5)\n",
      "(7, 8, 9, 6, 9, 'hello world', 7, 8, 9, 6, 9, 'hello world', 7, 8, 9, 6, 9, 'hello world')\n"
     ]
    }
   ],
   "source": [
    "# Tuples operations\n",
    "tup1 = (7,8,9,6,9,\"hello world\")\n",
    "\n",
    "# 1) Concatenation\n",
    "print(tup1 + num)\n",
    "\n",
    "# 2) Multiplying tuple by a number \n",
    "print(tup1 * 3)\n"
   ]
  },
  {
   "cell_type": "code",
   "execution_count": 23,
   "metadata": {},
   "outputs": [],
   "source": [
    "#Immutable nature of tuple --> means elements can not be changed once it assigned\n",
    "\n"
   ]
  },
  {
   "cell_type": "code",
   "execution_count": 30,
   "metadata": {},
   "outputs": [
    {
     "name": "stdout",
     "output_type": "stream",
     "text": [
      "2\n",
      "1\n"
     ]
    }
   ],
   "source": [
    "# Tuple Methods\n",
    "# 1) Count --> it measures how many times this number is repeated in tuple\n",
    "print(tup1.count(9))\n",
    "\n",
    "# 2) Index --> it returns the index of that element that passed in paranthesis\n",
    "print(tup1.index(8))\n"
   ]
  },
  {
   "cell_type": "code",
   "execution_count": 42,
   "metadata": {},
   "outputs": [
    {
     "name": "stdout",
     "output_type": "stream",
     "text": [
      "(1, 2, 'hello world')\n",
      "1\n",
      "2\n",
      "hello world\n",
      "1\n",
      "[2, 3, 4, 5]\n",
      "6\n"
     ]
    }
   ],
   "source": [
    "# packing and unpacking tuple\n",
    "packed_tuple=1,2,\"hello world\" #--> packing of tuple\n",
    "print(packed_tuple)\n",
    "\n",
    "# Unpacking of tuple\n",
    "a,b,c=packed_tuple\n",
    "print(a)\n",
    "print(b)\n",
    "print(c)\n",
    "\n",
    "# Unpacking with *  ---> use when number of elements is to large to unpack \n",
    "num = (1,2,3,4,5,6)\n",
    "first,*middle,last=num\n",
    "print(first)\n",
    "print(middle)\n",
    "print(last)"
   ]
  },
  {
   "cell_type": "code",
   "execution_count": 44,
   "metadata": {},
   "outputs": [
    {
     "data": {
      "text/plain": [
       "('hello', 'world')"
      ]
     },
     "execution_count": 44,
     "metadata": {},
     "output_type": "execute_result"
    }
   ],
   "source": [
    "# Nested tuples --> tuple inside tuple\n",
    "tup = ((1,2,3),(4,5,6),(\"hello\",\"world\"))\n",
    "tup[-1]"
   ]
  },
  {
   "cell_type": "code",
   "execution_count": 47,
   "metadata": {},
   "outputs": [
    {
     "name": "stdout",
     "output_type": "stream",
     "text": [
      "1 2 3 \n",
      "4 5 6 \n",
      "hello world \n"
     ]
    }
   ],
   "source": [
    "# iterating over a nested tuples\n",
    "for sub_tup in tup:\n",
    "    for item in sub_tup:\n",
    "        print(item,end=\" \")\n",
    "        \n",
    "    print()"
   ]
  },
  {
   "cell_type": "code",
   "execution_count": 54,
   "metadata": {},
   "outputs": [
    {
     "name": "stdout",
     "output_type": "stream",
     "text": [
      "<generator object <genexpr> at 0x00000245FE7886C0>\n",
      "(0, 1, 4, 9, 16, 25, 36, 49, 64, 81)\n"
     ]
    }
   ],
   "source": [
    "# tuple comprehension\n",
    "tup = (i**2 for i in range(10))\n",
    "print(tup)\n",
    "print(tuple(tup))"
   ]
  },
  {
   "cell_type": "code",
   "execution_count": null,
   "metadata": {},
   "outputs": [],
   "source": []
  }
 ],
 "metadata": {
  "kernelspec": {
   "display_name": "Python 3",
   "language": "python",
   "name": "python3"
  },
  "language_info": {
   "codemirror_mode": {
    "name": "ipython",
    "version": 3
   },
   "file_extension": ".py",
   "mimetype": "text/x-python",
   "name": "python",
   "nbconvert_exporter": "python",
   "pygments_lexer": "ipython3",
   "version": "3.12.1"
  }
 },
 "nbformat": 4,
 "nbformat_minor": 2
}
