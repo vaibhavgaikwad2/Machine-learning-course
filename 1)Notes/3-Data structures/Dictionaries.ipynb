{
 "cells": [
  {
   "cell_type": "code",
   "execution_count": null,
   "metadata": {},
   "outputs": [],
   "source": [
    "# Dictionaries are unordered collection of items.\n",
    "# they stores data in key value pair.\n",
    "# key's must be unique and \"immutable\"."
   ]
  },
  {
   "cell_type": "code",
   "execution_count": 1,
   "metadata": {},
   "outputs": [
    {
     "name": "stdout",
     "output_type": "stream",
     "text": [
      "<class 'dict'>\n"
     ]
    }
   ],
   "source": [
    "# creating dict\n",
    "\n",
    "dict = {} #--> empty dict\n",
    "print(type(dict))\n"
   ]
  },
  {
   "cell_type": "code",
   "execution_count": 2,
   "metadata": {},
   "outputs": [
    {
     "name": "stdout",
     "output_type": "stream",
     "text": [
      "{'name': 'vaibhs', 'age': 21}\n"
     ]
    }
   ],
   "source": [
    "dict = {\"name\":\"vaibhs\",\"age\":21,}\n",
    "print(dict)"
   ]
  },
  {
   "cell_type": "code",
   "execution_count": 3,
   "metadata": {},
   "outputs": [
    {
     "name": "stdout",
     "output_type": "stream",
     "text": [
      "{'name': 24, 'age': 21}\n"
     ]
    }
   ],
   "source": [
    "dict = {\"name\":\"vaibhav\",\"age\":21,\"name\":24}\n",
    "print(dict)"
   ]
  },
  {
   "cell_type": "code",
   "execution_count": 8,
   "metadata": {},
   "outputs": [
    {
     "name": "stdout",
     "output_type": "stream",
     "text": [
      "21\n",
      "abc\n",
      "21\n",
      "35\n",
      "35\n",
      "None\n",
      "Not found\n"
     ]
    }
   ],
   "source": [
    "# Accessing elements in dict\n",
    "student = {\"name\":\"abc\",\"age\":21,\"grades\":35}\n",
    "print(dict[\"age\"])\n",
    "print(student[\"name\"])\n",
    "print(student[\"age\"])\n",
    "print(student[\"grades\"])\n",
    "\n",
    "# accessing Elements using get method\n",
    "print(student.get('grades'))\n",
    "print(student.get('last_name'))\n",
    "print(student.get('first_name',\"Not found\")) #--> in this method, if given key's value is not found then it passes value written in \" \" \n",
    "\n"
   ]
  },
  {
   "cell_type": "code",
   "execution_count": 12,
   "metadata": {},
   "outputs": [
    {
     "name": "stdout",
     "output_type": "stream",
     "text": [
      "{'name': 'abc', 'age': 33, 'grades': 35, 'last_name': 'xyz'}\n",
      "{'name': 'abc', 'age': 33, 'grades': 35, 'last_name': 'xyz'}\n",
      "{'name': 'abc', 'age': 33, 'grades': 35, 'last_name': 'xyz'}\n",
      "{'name': 'abc', 'age': 33, 'grades': 35}\n"
     ]
    }
   ],
   "source": [
    "#Modifying Dict --> dict are mutable --> we can't modify key's because key's are immutable and only values are mutable.\n",
    "print(student)\n",
    "\n",
    "# 1) Update the value\n",
    "student[\"age\"] = 33\n",
    "print(student)\n",
    "\n",
    "# 2) Adding a new key and their value\n",
    "student[\"last_name\"] = \"xyz\"\n",
    "print(student)\n",
    "\n",
    "# 3) Deleting the pair \n",
    "del student[\"last_name\"]\n",
    "print(student)"
   ]
  },
  {
   "cell_type": "code",
   "execution_count": 22,
   "metadata": {},
   "outputs": [
    {
     "name": "stdout",
     "output_type": "stream",
     "text": [
      "dict_keys(['name', 'age', 'grades'])\n",
      "dict_values(['vaibhs', 56, 35])\n",
      "dict_items([('name', 'vaibhs'), ('age', 56), ('grades', 35)])\n",
      "{'name': 'vaibhs', 'age': 56, 'grades': 35}\n",
      "{'name': 'vaibhs', 'age': 56, 'grades': 35}\n",
      "{'name': 'vaibhs', 'age': 56, 'grades': 35}\n",
      "{'name': 'vaibhs', 'age': 56, 'grades': 35}\n",
      "{'name': 'abc', 'age': 56, 'grades': 35}\n",
      "{'name': 'abc', 'age': 56, 'grades': 35}\n"
     ]
    }
   ],
   "source": [
    "# Dict methods \n",
    "# 1) Returns all the keys\n",
    "keys = student.keys()\n",
    "print(keys)\n",
    "\n",
    "# 2) Returns all the values\n",
    "values = student.values()\n",
    "print(values)\n",
    "\n",
    "# 3) Returns all the key and value pairs\n",
    "items = student.items()\n",
    "print(items)\n",
    "\n",
    "# 4)shallow copy --> it copies structure of original dict and changes in original dict also changes in shallow copy and vice versa is possible.\n",
    "student_copy = student \n",
    "print(student_copy)\n",
    "student[\"name\"]= \"vaibhs\"\n",
    "print(student_copy)\n",
    "student_copy[\"age\"]=56\n",
    "print(student)\n",
    "print(student_copy)\n",
    "\n",
    "student[\"name\"]=\"abc\"\n",
    "print(student)\n",
    "print(student_copy)"
   ]
  },
  {
   "cell_type": "code",
   "execution_count": 51,
   "metadata": {},
   "outputs": [
    {
     "name": "stdout",
     "output_type": "stream",
     "text": [
      "{'name': 'abc', 'age': 56, 'grades': 35}\n"
     ]
    }
   ],
   "source": [
    "student1=student.copy()\n",
    "print(student1)\n",
    "student[\"name\"]=\"xyz\"\n"
   ]
  },
  {
   "cell_type": "code",
   "execution_count": 52,
   "metadata": {},
   "outputs": [
    {
     "name": "stdout",
     "output_type": "stream",
     "text": [
      "{'name': 'abc', 'age': 56, 'grades': 35}\n",
      "{'name': 'xyz', 'age': 56, 'grades': 35}\n"
     ]
    }
   ],
   "source": [
    "print(student1)\n",
    "print(student)"
   ]
  },
  {
   "cell_type": "code",
   "execution_count": 53,
   "metadata": {},
   "outputs": [
    {
     "name": "stdout",
     "output_type": "stream",
     "text": [
      "{'name': 'xyz', 'age': 56, 'grades': 35}\n",
      "{'name': 'abc', 'age': 56, 'grades': 35}\n"
     ]
    }
   ],
   "source": [
    "print(student)\n",
    "print(student1)\n"
   ]
  },
  {
   "cell_type": "code",
   "execution_count": 54,
   "metadata": {},
   "outputs": [],
   "source": [
    "# Note --> Always use copy() function for shallow copy....\n"
   ]
  },
  {
   "cell_type": "code",
   "execution_count": 62,
   "metadata": {},
   "outputs": [
    {
     "name": "stdout",
     "output_type": "stream",
     "text": [
      "{'name': 'xyz', 'age': 56, 'grades': 35}\n",
      "\n",
      "name\n",
      "age\n",
      "grades\n",
      "\n",
      "xyz\n",
      "56\n",
      "35\n",
      "\n",
      "('name', 'xyz')\n",
      "('age', 56)\n",
      "('grades', 35)\n"
     ]
    }
   ],
   "source": [
    "# Iterarting over dict \n",
    "\n",
    "# 1) iterating over key's of dict\n",
    "\n",
    "print(student)\n",
    "print()\n",
    "for keys in student.keys():\n",
    "    print(keys)\n",
    "\n",
    "print()    \n",
    "\n",
    "# 2) iterating over values of dict \n",
    "for values in student.values():\n",
    "    print(values)\n",
    "\n",
    "print()\n",
    "\n",
    "# 3) Iterating over items(pair of key's and values)\n",
    "\n",
    "for items in student.items():\n",
    "    print(items)\n"
   ]
  },
  {
   "cell_type": "code",
   "execution_count": 63,
   "metadata": {},
   "outputs": [
    {
     "name": "stdout",
     "output_type": "stream",
     "text": [
      "{'student1': {'name': 'abc', 'age': 20}, 'student2': {'name': 'xyz', 'age': 21}}\n"
     ]
    }
   ],
   "source": [
    "# nested Dict\n",
    "nested_dict = {\n",
    "    \"student1\":{\"name\":\"abc\",\"age\":20},\n",
    "    \"student2\":{\"name\":\"xyz\",\"age\":21}\n",
    "}\n",
    "print(nested_dict)"
   ]
  },
  {
   "cell_type": "code",
   "execution_count": 67,
   "metadata": {},
   "outputs": [
    {
     "name": "stdout",
     "output_type": "stream",
     "text": [
      "abc\n",
      "{'name': 'xyz', 'age': 21}\n",
      "21\n"
     ]
    }
   ],
   "source": [
    "# Accessing Nested dictionaries\n",
    "print(nested_dict[\"student1\"][\"name\"])\n",
    "print(nested_dict[\"student2\"])\n",
    "print(nested_dict[\"student2\"][\"age\"])"
   ]
  },
  {
   "cell_type": "code",
   "execution_count": 70,
   "metadata": {},
   "outputs": [
    {
     "name": "stdout",
     "output_type": "stream",
     "text": [
      "dict_keys(['student1', 'student2'])\n",
      "dict_values([{'name': 'abc', 'age': 20}, {'name': 'xyz', 'age': 21}])\n",
      "dict_items([('student1', {'name': 'abc', 'age': 20}), ('student2', {'name': 'xyz', 'age': 21})])\n"
     ]
    }
   ],
   "source": [
    "print(nested_dict.keys())\n",
    "print(nested_dict.values())\n",
    "print(nested_dict.items())"
   ]
  },
  {
   "cell_type": "code",
   "execution_count": 71,
   "metadata": {},
   "outputs": [
    {
     "name": "stdout",
     "output_type": "stream",
     "text": [
      "student1:{'name': 'abc', 'age': 20}\n",
      "name:abc\n",
      "age:20\n",
      "student2:{'name': 'xyz', 'age': 21}\n",
      "name:xyz\n",
      "age:21\n"
     ]
    }
   ],
   "source": [
    "# Iterating over nested dictionaries\n",
    "for student_info, student_id in nested_dict.items():\n",
    "    print(f\"{student_info}:{student_id}\")\n",
    "    for keys, values in student_id.items():\n",
    "        print(f\"{keys}:{values}\")\n"
   ]
  },
  {
   "cell_type": "code",
   "execution_count": 72,
   "metadata": {},
   "outputs": [
    {
     "name": "stdout",
     "output_type": "stream",
     "text": [
      "{1: 1, 2: 4, 3: 9, 4: 16, 5: 25, 6: 36, 7: 49, 8: 64, 9: 81, 10: 100}\n"
     ]
    }
   ],
   "source": [
    "# Dictionary comprehension \n",
    "squares = {x:x**2 for x in range(1,11)}\n",
    "print(squares)"
   ]
  },
  {
   "cell_type": "code",
   "execution_count": 73,
   "metadata": {},
   "outputs": [
    {
     "name": "stdout",
     "output_type": "stream",
     "text": [
      "{2: 4, 4: 16, 6: 36, 8: 64, 10: 100}\n"
     ]
    }
   ],
   "source": [
    "# condition Dict comprehension \n",
    "squares={x:x**2 for x in range(1,11) if x%2==0}\n",
    "print(squares)"
   ]
  },
  {
   "cell_type": "code",
   "execution_count": 74,
   "metadata": {},
   "outputs": [
    {
     "name": "stdout",
     "output_type": "stream",
     "text": [
      "{1: 1, 2: 1, 3: 3, 4: 2, 5: 1, 6: 6, 66: 1}\n"
     ]
    }
   ],
   "source": [
    "# Practical Examples \n",
    "# 1) Used to count frequency element in list\n",
    "numbers = [1,2,3,3,3,4,4,5,6,6,6,6,6,66,6]\n",
    "frequency = {}\n",
    "\n",
    "for number in numbers:\n",
    "    if number in frequency:\n",
    "        frequency[number]+=1\n",
    "    else:\n",
    "        frequency[number]=1\n",
    "\n",
    "print(frequency)\n"
   ]
  },
  {
   "cell_type": "code",
   "execution_count": 76,
   "metadata": {},
   "outputs": [
    {
     "name": "stdout",
     "output_type": "stream",
     "text": [
      "{'a': 1, 'b': 3, 'c': 4}\n"
     ]
    }
   ],
   "source": [
    "# merging of dictionaries\n",
    "dict1={\"a\":1,\"b\":2}\n",
    "dict2={\"b\":3,\"c\":4}\n",
    "\n",
    "merged_dict={**dict1,**dict2} #--> ** this operator unpacks dict --> in these dicts b is repeated and oveeerlapped thats why it overlaps dict 2 over dict1 and takes values from dict2\n",
    "\n",
    "print(merged_dict)"
   ]
  }
 ],
 "metadata": {
  "kernelspec": {
   "display_name": "Python 3",
   "language": "python",
   "name": "python3"
  },
  "language_info": {
   "codemirror_mode": {
    "name": "ipython",
    "version": 3
   },
   "file_extension": ".py",
   "mimetype": "text/x-python",
   "name": "python",
   "nbconvert_exporter": "python",
   "pygments_lexer": "ipython3",
   "version": "3.12.1"
  }
 },
 "nbformat": 4,
 "nbformat_minor": 2
}
