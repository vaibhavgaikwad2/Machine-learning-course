{
 "cells": [
  {
   "cell_type": "code",
   "execution_count": null,
   "metadata": {},
   "outputs": [],
   "source": [
    "# Dictionaries are unordered collection of items.\n",
    "# they stores data in key value pair.\n",
    "# key's must be unique and \"immutable\"."
   ]
  },
  {
   "cell_type": "code",
   "execution_count": 1,
   "metadata": {},
   "outputs": [
    {
     "name": "stdout",
     "output_type": "stream",
     "text": [
      "<class 'dict'>\n"
     ]
    }
   ],
   "source": [
    "# creating dict\n",
    "\n",
    "dict = {} #--> empty dict\n",
    "print(type(dict))\n"
   ]
  },
  {
   "cell_type": "code",
   "execution_count": 2,
   "metadata": {},
   "outputs": [
    {
     "name": "stdout",
     "output_type": "stream",
     "text": [
      "{'name': 'vaibhs', 'age': 21}\n"
     ]
    }
   ],
   "source": [
    "dict = {\"name\":\"vaibhs\",\"age\":21,}\n",
    "print(dict)"
   ]
  },
  {
   "cell_type": "code",
   "execution_count": 3,
   "metadata": {},
   "outputs": [
    {
     "name": "stdout",
     "output_type": "stream",
     "text": [
      "{'name': 24, 'age': 21}\n"
     ]
    }
   ],
   "source": [
    "dict = {\"name\":\"vaibhav\",\"age\":21,\"name\":24}\n",
    "print(dict)"
   ]
  },
  {
   "cell_type": "code",
   "execution_count": 8,
   "metadata": {},
   "outputs": [
    {
     "name": "stdout",
     "output_type": "stream",
     "text": [
      "21\n",
      "abc\n",
      "21\n",
      "35\n",
      "35\n",
      "None\n",
      "Not found\n"
     ]
    }
   ],
   "source": [
    "# Accessing elements in dict\n",
    "student = {\"name\":\"abc\",\"age\":21,\"grades\":35}\n",
    "print(dict[\"age\"])\n",
    "print(student[\"name\"])\n",
    "print(student[\"age\"])\n",
    "print(student[\"grades\"])\n",
    "\n",
    "# accessing Elements using get method\n",
    "print(student.get('grades'))\n",
    "print(student.get('last_name'))\n",
    "print(student.get('first_name',\"Not found\")) #--> in this method, if given key's value is not found then it passes value written in \" \" \n",
    "\n"
   ]
  },
  {
   "cell_type": "code",
   "execution_count": 12,
   "metadata": {},
   "outputs": [
    {
     "name": "stdout",
     "output_type": "stream",
     "text": [
      "{'name': 'abc', 'age': 33, 'grades': 35, 'last_name': 'xyz'}\n",
      "{'name': 'abc', 'age': 33, 'grades': 35, 'last_name': 'xyz'}\n",
      "{'name': 'abc', 'age': 33, 'grades': 35, 'last_name': 'xyz'}\n",
      "{'name': 'abc', 'age': 33, 'grades': 35}\n"
     ]
    }
   ],
   "source": [
    "#Modifying Dict --> dict are mutable --> we can't modify key's because key's are immutable and only values are mutable.\n",
    "print(student)\n",
    "\n",
    "# 1) Update the value\n",
    "student[\"age\"] = 33\n",
    "print(student)\n",
    "\n",
    "# 2) Adding a new key and their value\n",
    "student[\"last_name\"] = \"xyz\"\n",
    "print(student)\n",
    "\n",
    "# 3) Deleting the pair \n",
    "del student[\"last_name\"]\n",
    "print(student)"
   ]
  },
  {
   "cell_type": "code",
   "execution_count": 16,
   "metadata": {},
   "outputs": [
    {
     "name": "stdout",
     "output_type": "stream",
     "text": [
      "dict_keys(['name', 'age', 'grades'])\n",
      "dict_values(['abc', 33, 35])\n"
     ]
    }
   ],
   "source": [
    "# Dict methods \n",
    "# 1) Returns all the keys\n",
    "keys = student.keys()\n",
    "print(keys)\n",
    "\n",
    "# 2) Returns all the values\n",
    "values = student.values()\n",
    "print(values)"
   ]
  },
  {
   "cell_type": "code",
   "execution_count": null,
   "metadata": {},
   "outputs": [],
   "source": []
  }
 ],
 "metadata": {
  "kernelspec": {
   "display_name": "Python 3",
   "language": "python",
   "name": "python3"
  },
  "language_info": {
   "codemirror_mode": {
    "name": "ipython",
    "version": 3
   },
   "file_extension": ".py",
   "mimetype": "text/x-python",
   "name": "python",
   "nbconvert_exporter": "python",
   "pygments_lexer": "ipython3",
   "version": "3.12.1"
  }
 },
 "nbformat": 4,
 "nbformat_minor": 2
}
