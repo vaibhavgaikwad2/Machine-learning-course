{
 "cells": [
  {
   "cell_type": "code",
   "execution_count": 1,
   "metadata": {},
   "outputs": [
    {
     "name": "stdout",
     "output_type": "stream",
     "text": [
      "your allowed to vote\n"
     ]
    }
   ],
   "source": [
    "# if statement\n",
    "\n",
    "age = 20\n",
    "\n",
    "if age >=20:\n",
    "    print(\"your allowed to vote\")\n",
    "\n",
    "else:\n",
    "    print(\"your minor\")\n",
    "\n"
   ]
  },
  {
   "cell_type": "code",
   "execution_count": 2,
   "metadata": {},
   "outputs": [
    {
     "name": "stdout",
     "output_type": "stream",
     "text": [
      "number is positive\n",
      "number is even\n"
     ]
    }
   ],
   "source": [
    "#Nested conditional statement\n",
    "#--> you can put one or more if, elif, or else statement in if, elif or else block\n",
    "\n",
    "num = int(input(\"enter the number\"))\n",
    "\n",
    "if num >0:\n",
    "    print(\"number is positive\")\n",
    "    if num%2==0:\n",
    "        print(\"number is even\")\n",
    "\n",
    "    else:\n",
    "        print(\"number is odd\")\n",
    "\n",
    "elif num==0:\n",
    "    print(\"number is neither positive nor negative\")\n",
    "\n",
    "else:\n",
    "    print(\"number is negative\")\n",
    "    \n",
    "\n",
    "\n"
   ]
  },
  {
   "cell_type": "code",
   "execution_count": 3,
   "metadata": {},
   "outputs": [
    {
     "name": "stdout",
     "output_type": "stream",
     "text": [
      "2024 year is leap\n"
     ]
    }
   ],
   "source": [
    "#practical example \n",
    "#checking year is leap year or not\n",
    "\n",
    "year=int(input(\"Enter a Year\"))\n",
    "\n",
    "if year%4==0:\n",
    "    print(f\"{year} year is leap\")\n",
    "\n",
    "else:\n",
    "    print(f\"{year} year is not leap\")"
   ]
  },
  {
   "cell_type": "code",
   "execution_count": 5,
   "metadata": {},
   "outputs": [
    {
     "name": "stdout",
     "output_type": "stream",
     "text": [
      "Error! Divison by zero\n"
     ]
    }
   ],
   "source": [
    "#Assignment\n",
    "#Calculator\n",
    "\n",
    "num1=float(input(\"Enter first number\"))\n",
    "num2=float(input(\"Enter second number\"))\n",
    "\n",
    "op = input(\"Enter operation (+,-,*,/)\")\n",
    "\n",
    "\n",
    "if op== '+':\n",
    "    print(num1 + num2)\n",
    "elif op =='-':\n",
    "    print = num1 - num2\n",
    "elif op =='*':\n",
    "    print(num1*num2)\n",
    "\n",
    "elif op == '/':\n",
    "    if num2==0:\n",
    "        print(\"Error! Divison by zero\")\n",
    "    else:\n",
    "        print(num1/num2)\n",
    "\n",
    "\n",
    "else:\n",
    "    print(\"invalide operation\")\n",
    "\n"
   ]
  },
  {
   "cell_type": "code",
   "execution_count": null,
   "metadata": {},
   "outputs": [],
   "source": []
  },
  {
   "cell_type": "code",
   "execution_count": null,
   "metadata": {},
   "outputs": [],
   "source": []
  },
  {
   "cell_type": "code",
   "execution_count": null,
   "metadata": {},
   "outputs": [],
   "source": []
  },
  {
   "cell_type": "code",
   "execution_count": null,
   "metadata": {},
   "outputs": [],
   "source": []
  }
 ],
 "metadata": {
  "kernelspec": {
   "display_name": "Python 3",
   "language": "python",
   "name": "python3"
  },
  "language_info": {
   "codemirror_mode": {
    "name": "ipython",
    "version": 3
   },
   "file_extension": ".py",
   "mimetype": "text/x-python",
   "name": "python",
   "nbconvert_exporter": "python",
   "pygments_lexer": "ipython3",
   "version": "3.12.1"
  }
 },
 "nbformat": 4,
 "nbformat_minor": 2
}
