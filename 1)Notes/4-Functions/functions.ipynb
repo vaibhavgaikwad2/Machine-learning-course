{
 "cells": [
  {
   "cell_type": "code",
   "execution_count": null,
   "metadata": {},
   "outputs": [],
   "source": [
    "# Functions --> block of code that performs specific tasks \n",
    "# syntax\n",
    "def function_name(parameter):\n",
    "    \"\"\"Docstring-->comment about this function's task\"\"\"\n",
    "    #function body\n",
    "    # return expression\n",
    "\n",
    "# call the function to use the function with required parameter\n",
    "function_name(\"parameter\")\n",
    "   "
   ]
  },
  {
   "cell_type": "code",
   "execution_count": 1,
   "metadata": {},
   "outputs": [
    {
     "name": "stdout",
     "output_type": "stream",
     "text": [
      "the number is even\n"
     ]
    }
   ],
   "source": [
    "# Requirement of function --> 1) Reusability of code\n",
    "\n",
    "def even_or_odd(num):\n",
    "    \"\"\"This function finds even or odd\"\"\"\n",
    "    if num%2==0:\n",
    "        print(\"the number is even\")\n",
    "\n",
    "    else:\n",
    "        print(\"the number is odd \")\n",
    "\n",
    "even_or_odd(34)   # --> calling the function  "
   ]
  },
  {
   "cell_type": "code",
   "execution_count": 4,
   "metadata": {},
   "outputs": [],
   "source": [
    "# function with multiple parameter\n",
    "\n",
    "def add(a,b):\n",
    "    c = a+b\n",
    "    \n"
   ]
  },
  {
   "cell_type": "code",
   "execution_count": null,
   "metadata": {},
   "outputs": [],
   "source": []
  }
 ],
 "metadata": {
  "kernelspec": {
   "display_name": "Python 3",
   "language": "python",
   "name": "python3"
  },
  "language_info": {
   "codemirror_mode": {
    "name": "ipython",
    "version": 3
   },
   "file_extension": ".py",
   "mimetype": "text/x-python",
   "name": "python",
   "nbconvert_exporter": "python",
   "pygments_lexer": "ipython3",
   "version": "3.12.1"
  }
 },
 "nbformat": 4,
 "nbformat_minor": 2
}
