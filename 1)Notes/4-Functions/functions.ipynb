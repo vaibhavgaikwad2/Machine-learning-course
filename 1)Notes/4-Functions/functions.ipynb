{
 "cells": [
  {
   "cell_type": "code",
   "execution_count": null,
   "metadata": {},
   "outputs": [],
   "source": [
    "# Functions --> block of code that performs specific tasks \n",
    "# syntax\n",
    "def function_name(parameter):\n",
    "    \"\"\"Docstring-->comment about this function's task\"\"\"\n",
    "    #function body\n",
    "    # return expression\n",
    "\n",
    "# call the function to use the function with required parameter\n",
    "function_name(\"parameter\")\n",
    "   "
   ]
  },
  {
   "cell_type": "code",
   "execution_count": 1,
   "metadata": {},
   "outputs": [
    {
     "name": "stdout",
     "output_type": "stream",
     "text": [
      "the number is even\n"
     ]
    }
   ],
   "source": [
    "# Requirement of function --> 1) Reusability of code\n",
    "\n",
    "def even_or_odd(num):\n",
    "    \"\"\"This function finds even or odd\"\"\"\n",
    "    if num%2==0:\n",
    "        print(\"the number is even\")\n",
    "\n",
    "    else:\n",
    "        print(\"the number is odd \")\n",
    "\n",
    "even_or_odd(34)   # --> calling the function  "
   ]
  },
  {
   "cell_type": "code",
   "execution_count": 1,
   "metadata": {},
   "outputs": [
    {
     "data": {
      "text/plain": [
       "5"
      ]
     },
     "execution_count": 1,
     "metadata": {},
     "output_type": "execute_result"
    }
   ],
   "source": [
    "# function with multiple parameter\n",
    "\n",
    "def add(a,b):\n",
    "    c = a+b\n",
    "    return c\n",
    "add(2,3)    \n"
   ]
  },
  {
   "cell_type": "code",
   "execution_count": 3,
   "metadata": {},
   "outputs": [
    {
     "name": "stdout",
     "output_type": "stream",
     "text": [
      "hello Vaibhs\n",
      "hello Guest\n"
     ]
    }
   ],
   "source": [
    "# default parameters \n",
    "def greet(name=\"Guest\"): #--> Default Parameter is Guest \n",
    "    print(f\"hello {name}\")\n",
    "\n",
    "greet(\"Vaibhs\")\n",
    "greet()"
   ]
  },
  {
   "cell_type": "code",
   "execution_count": 1,
   "metadata": {},
   "outputs": [
    {
     "name": "stdout",
     "output_type": "stream",
     "text": [
      "1\n",
      "2\n",
      "3\n",
      "4\n",
      "5\n",
      "6\n",
      "7\n",
      "8\n"
     ]
    }
   ],
   "source": [
    "# variable length arguments\n",
    "# positional (*args) \n",
    "def print_number(*args):\n",
    "    for number in args:\n",
    "        print(number)\n",
    "\n",
    "print_number(1,2,3,4,5,6,7,8)"
   ]
  },
  {
   "cell_type": "code",
   "execution_count": 2,
   "metadata": {},
   "outputs": [
    {
     "name": "stdout",
     "output_type": "stream",
     "text": [
      "name:vaibhs\n",
      "age:20\n",
      "country:india\n"
     ]
    }
   ],
   "source": [
    "# keyword arguments --> **kwargs --> keyword args are in key value pairs \n",
    "def print_details(**kwargs):\n",
    "    for key, value in kwargs.items():\n",
    "        print(f\"{key}:{value}\")\n",
    "\n",
    "print_details(name = \"vaibhs\", age = 20, country = 'india')"
   ]
  },
  {
   "cell_type": "code",
   "execution_count": 3,
   "metadata": {},
   "outputs": [
    {
     "name": "stdout",
     "output_type": "stream",
     "text": [
      "positional args :1\n",
      "positional args :2\n",
      "positional args :3\n",
      "positional args :4\n",
      "positional args :5\n",
      "name:vaibhs\n",
      "age:20\n",
      "country:india\n"
     ]
    }
   ],
   "source": [
    "def print_details(*args, **kwargs):\n",
    "    for val in args:\n",
    "        print(f\"positional args :{val}\")\n",
    "\n",
    "    for key, value in kwargs.items():\n",
    "        print(f\"{key}:{value}\")\n",
    "\n",
    "print_details(1,2,3,4,5,name = \"vaibhs\", age = 20, country = 'india')"
   ]
  },
  {
   "cell_type": "code",
   "execution_count": 4,
   "metadata": {},
   "outputs": [
    {
     "data": {
      "text/plain": [
       "6"
      ]
     },
     "execution_count": 4,
     "metadata": {},
     "output_type": "execute_result"
    }
   ],
   "source": [
    "# Return statement\n",
    "def multi(a,b):\n",
    "    return a*b\n",
    "multi(2,3)"
   ]
  },
  {
   "cell_type": "code",
   "execution_count": 6,
   "metadata": {},
   "outputs": [
    {
     "data": {
      "text/plain": [
       "(6, 2)"
      ]
     },
     "execution_count": 6,
     "metadata": {},
     "output_type": "execute_result"
    }
   ],
   "source": [
    "# Return multiple staements\n",
    "def multi(a,b):\n",
    "    return a*b,a\n",
    "\n",
    "multi(2,3)"
   ]
  },
  {
   "cell_type": "markdown",
   "metadata": {},
   "source": [
    "#function examples"
   ]
  },
  {
   "cell_type": "code",
   "execution_count": 7,
   "metadata": {},
   "outputs": [
    {
     "name": "stdout",
     "output_type": "stream",
     "text": [
      "77.0\n",
      "8.333333333333334\n"
     ]
    }
   ],
   "source": [
    "#Example 1) Temperature conversion\n",
    "def Temp_conversion(temp,unit):\n",
    "    \"\"\"This function converts temp between celsius and fahrenheit\"\"\"\n",
    "    if unit == \"C\":\n",
    "        return temp*9/5 + 32 # celsius to F conversion\n",
    "    elif unit ==\"F\":\n",
    "        return (temp-32)*5/9\n",
    "    else:\n",
    "        return None\n",
    "    \n",
    "print(Temp_conversion(25,\"C\"))\n",
    "print(Temp_conversion(47,\"F\"))\n"
   ]
  },
  {
   "cell_type": "code",
   "execution_count": 10,
   "metadata": {},
   "outputs": [
    {
     "name": "stdout",
     "output_type": "stream",
     "text": [
      "False\n",
      "True\n"
     ]
    }
   ],
   "source": [
    "# PAssword strength checker\n",
    "def is_strong_password(password):\n",
    "    \"\"\"Tis function checks if the password is strong or not\"\"\"\n",
    "    if len(password)<8:\n",
    "        return False\n",
    "    \n",
    "    if not any(char.isdigit() for char in password):\n",
    "        return False\n",
    "    \n",
    "    if not any(char.islower() for char in password):\n",
    "        return False\n",
    "    \n",
    "    if not any(char.isupper() for char in password):\n",
    "        return False\n",
    "    \n",
    "    if not any(char in '!@#$%^&*' for char in password):\n",
    "        return False\n",
    "    return True\n",
    "# Calling the function\n",
    "print(is_strong_password(\"Weakpass1223\"))\n",
    "print(is_strong_password(\"StrongPass@123\"))\n"
   ]
  },
  {
   "cell_type": "code",
   "execution_count": null,
   "metadata": {},
   "outputs": [],
   "source": []
  }
 ],
 "metadata": {
  "kernelspec": {
   "display_name": "Python 3",
   "language": "python",
   "name": "python3"
  },
  "language_info": {
   "codemirror_mode": {
    "name": "ipython",
    "version": 3
   },
   "file_extension": ".py",
   "mimetype": "text/x-python",
   "name": "python",
   "nbconvert_exporter": "python",
   "pygments_lexer": "ipython3",
   "version": "3.12.1"
  }
 },
 "nbformat": 4,
 "nbformat_minor": 2
}
