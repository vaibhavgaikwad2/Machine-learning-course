{
 "cells": [
  {
   "cell_type": "markdown",
   "metadata": {},
   "source": [
    "filter() function\n"
   ]
  },
  {
   "cell_type": "markdown",
   "metadata": {},
   "source": [
    "the filter function constructs an iterator from elements of an iterable from elements of an iterable for which a function returns true. it is used to filter out items from list based on conditions\n"
   ]
  },
  {
   "cell_type": "code",
   "execution_count": 1,
   "metadata": {},
   "outputs": [
    {
     "data": {
      "text/plain": [
       "True"
      ]
     },
     "execution_count": 1,
     "metadata": {},
     "output_type": "execute_result"
    }
   ],
   "source": [
    "def even_num(x):\n",
    "    if x%2==0:\n",
    "        return True\n",
    "\n",
    "even_num(24)"
   ]
  },
  {
   "cell_type": "code",
   "execution_count": 3,
   "metadata": {},
   "outputs": [
    {
     "data": {
      "text/plain": [
       "[2, 4, 6, 8]"
      ]
     },
     "execution_count": 3,
     "metadata": {},
     "output_type": "execute_result"
    }
   ],
   "source": [
    "# filter function \n",
    "lst = [1,2,3,4,5,6,7,8,9]\n",
    "\n",
    "list(filter(even_num,lst))"
   ]
  },
  {
   "cell_type": "code",
   "execution_count": 5,
   "metadata": {},
   "outputs": [
    {
     "name": "stdout",
     "output_type": "stream",
     "text": [
      "[6, 7, 8, 9]\n"
     ]
    }
   ],
   "source": [
    "# Filter with a lambda function \n",
    "numbers =[1,2,3,4,5,6,7,8,9]\n",
    "\n",
    "greater_than_five=list(filter(lambda x:x>5,numbers))\n",
    "print(greater_than_five)"
   ]
  },
  {
   "cell_type": "code",
   "execution_count": 8,
   "metadata": {},
   "outputs": [
    {
     "name": "stdout",
     "output_type": "stream",
     "text": [
      "[6, 8]\n"
     ]
    }
   ],
   "source": [
    "# filter with lambda function\n",
    "even_and_greater_than_five = list(filter(lambda x:x>5 and x%2==0, numbers))\n",
    "print(even_and_greater_than_five)"
   ]
  },
  {
   "cell_type": "code",
   "execution_count": 9,
   "metadata": {},
   "outputs": [
    {
     "data": {
      "text/plain": [
       "[{'name': 'vaibhs', 'age': 20}, {'name': 'jonh', 'age': 22}]"
      ]
     },
     "execution_count": 9,
     "metadata": {},
     "output_type": "execute_result"
    }
   ],
   "source": [
    "# filter()to check if the age is greater than 15 in dict\n",
    "\n",
    "people=[\n",
    "    {'name':'vaibhs','age':20},\n",
    "    {'name':'jonh','age':22},\n",
    "    {'name':'Doe','age':12}\n",
    "]\n",
    "\n",
    "def age_greater(person):\n",
    "    return person['age']>15\n",
    "\n",
    "list(filter(age_greater,people))\n"
   ]
  },
  {
   "cell_type": "markdown",
   "metadata": {},
   "source": [
    "The filter function is powerful tool for creating iterators that filter items out of an iterable based on a function. it is commonly used for data cleaning, filtering objects, and removing unwanted elements from lists.\n"
   ]
  }
 ],
 "metadata": {
  "kernelspec": {
   "display_name": "Python 3",
   "language": "python",
   "name": "python3"
  },
  "language_info": {
   "codemirror_mode": {
    "name": "ipython",
    "version": 3
   },
   "file_extension": ".py",
   "mimetype": "text/x-python",
   "name": "python",
   "nbconvert_exporter": "python",
   "pygments_lexer": "ipython3",
   "version": "3.12.1"
  }
 },
 "nbformat": 4,
 "nbformat_minor": 2
}
