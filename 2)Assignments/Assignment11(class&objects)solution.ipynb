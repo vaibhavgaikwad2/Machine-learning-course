{
 "cells": [
  {
   "cell_type": "markdown",
   "metadata": {},
   "source": [
    "# Module: Classes and Objects Assignments\n",
    "## Lesson: Creating and Working with Classes and Objects\n",
    "### Assignment 1: Basic Class and Object Creation\n",
    "\n",
    "Create a class named `Car` with attributes `make`, `model`, and `year`. Create an object of the class and print its attributes.\n",
    "\n",
    "### Assignment 2: Methods in Class\n",
    "\n",
    "Add a method named `start_engine` to the `Car` class that prints a message when the engine starts. Create an object of the class and call the method.\n",
    "\n",
    "### Assignment 3: Class with Constructor\n",
    "\n",
    "Create a class named `Student` with attributes `name` and `age`. Use a constructor to initialize these attributes. Create an object of the class and print its attributes.\n",
    "\n",
    "### Assignment 4: Class with Private Attributes\n",
    "\n",
    "Create a class named `BankAccount` with private attributes `account_number` and `balance`. Add methods to deposit and withdraw money, and to check the balance. Create an object of the class and perform some operations.\n",
    "\n",
    "### Assignment 5: Class Inheritance\n",
    "\n",
    "Create a base class named `Person` with attributes `name` and `age`. Create a derived class named `Employee` that inherits from `Person` and adds an attribute `employee_id`. Create an object of the derived class and print its attributes.\n",
    "\n",
    "### Assignment 6: Method Overriding\n",
    "\n",
    "In the `Employee` class, override the `__str__` method to return a string representation of the object. Create an object of the class and print it.\n",
    "\n",
    "### Assignment 7: Class Composition\n",
    "\n",
    "Create a class named `Address` with attributes `street`, `city`, and `zipcode`. Create a class named `Person` that has an `Address` object as an attribute. Create an object of the `Person` class and print its address.\n",
    "\n",
    "### Assignment 8: Class with Class Variables\n",
    "\n",
    "Create a class named `Counter` with a class variable `count`. Each time an object is created, increment the count. Add a method to get the current count. Create multiple objects and print the count.\n",
    "\n",
    "### Assignment 9: Static Methods\n",
    "\n",
    "Create a class named `MathOperations` with a static method to calculate the square root of a number. Call the static method without creating an object.\n",
    "\n",
    "### Assignment 10: Class with Properties\n",
    "\n",
    "Create a class named `Rectangle` with private attributes `length` and `width`. Use properties to get and set these attributes. Create an object of the class and test the properties.\n",
    "\n",
    "### Assignment 11: Abstract Base Class\n",
    "\n",
    "Create an abstract base class named `Shape` with an abstract method `area`. Create derived classes `Circle` and `Square` that implement the `area` method. Create objects of the derived classes and call the `area` method.\n",
    "\n",
    "### Assignment 12: Operator Overloading\n",
    "\n",
    "Create a class named `Vector` with attributes `x` and `y`. Overload the `+` operator to add two `Vector` objects. Create objects of the class and test the operator overloading.\n",
    "\n",
    "### Assignment 13: Class with Custom Exception\n",
    "\n",
    "Create a custom exception named `InsufficientBalanceError`. In the `BankAccount` class, raise this exception when a withdrawal amount is greater than the balance. Handle the exception and print an appropriate message.\n",
    "\n",
    "### Assignment 14: Class with Context Manager\n",
    "\n",
    "Create a class named `FileManager` that implements the context manager protocol to open and close a file. Use this class to read the contents of a file.\n",
    "\n",
    "### Assignment 15: Chaining Methods\n",
    "\n",
    "Create a class named `Calculator` with methods to add, subtract, multiply, and divide. Each method should return the object itself to allow method chaining. Create an object and chain multiple method calls."
   ]
  },
  {
   "cell_type": "code",
   "execution_count": 2,
   "id": "59accd56",
   "metadata": {},
   "outputs": [
    {
     "name": "stdout",
     "output_type": "stream",
     "text": [
      "BMW\n"
     ]
    }
   ],
   "source": [
    "class Car:\n",
    "    def __init__(self,name,model,year):\n",
    "        self.name=name\n",
    "        self.model=model\n",
    "        self.year=year\n",
    "car = Car(\"BMW\",\"XUV\",2024)\n",
    "print(car.name)"
   ]
  },
  {
   "cell_type": "code",
   "execution_count": 6,
   "id": "fa50ef0f",
   "metadata": {},
   "outputs": [
    {
     "name": "stdout",
     "output_type": "stream",
     "text": [
      "BMW's Engine started\n"
     ]
    }
   ],
   "source": [
    "class Car:\n",
    "    def __init__(self,name,model,year):\n",
    "        self.name=name\n",
    "        self.model=model\n",
    "        self.year=year\n",
    "    def engine_start(self):\n",
    "        print(f\"{self.name}'s Engine started\")\n",
    "\n",
    "car = Car(\"BMW\",\"XUV\",2024)\n",
    "car.engine_start()"
   ]
  },
  {
   "cell_type": "code",
   "execution_count": 8,
   "id": "a9d44e16",
   "metadata": {},
   "outputs": [
    {
     "name": "stdout",
     "output_type": "stream",
     "text": [
      "vaibhs\n",
      "20\n"
     ]
    }
   ],
   "source": [
    "class Student:\n",
    "    def __init__(self,name,age):\n",
    "        self.name=name\n",
    "        self.age=age\n",
    "\n",
    "student = Student(\"vaibhs\",20)\n",
    "print(student.name)\n",
    "print(student.age)"
   ]
  },
  {
   "cell_type": "code",
   "execution_count": 17,
   "id": "20c659c2",
   "metadata": {},
   "outputs": [
    {
     "name": "stdout",
     "output_type": "stream",
     "text": [
      "5000000000000\n",
      "4999960000000\n"
     ]
    }
   ],
   "source": [
    "class BankAccount:\n",
    "    def __init__(self,account_number,balance=0):\n",
    "        self.__account_number=account_number\n",
    "        self.__balance=balance\n",
    "\n",
    "    def deposit(self,amount):\n",
    "        self.__balance+=amount\n",
    "\n",
    "    def withdraw(self,amount):\n",
    "        if amount>self.__balance:\n",
    "            print(\"Insufficient balance\")\n",
    "\n",
    "        else:\n",
    "            self.__balance-=amount\n",
    "\n",
    "    def check_balance(self):\n",
    "        return self.__balance\n",
    "    \n",
    "\n",
    "bank_account=BankAccount('123',5000000000000)\n",
    "print(bank_account.check_balance())\n",
    "bank_account.withdraw(40000000)\n",
    "print(bank_account.check_balance())\n",
    "    \n",
    "\n",
    "\n"
   ]
  },
  {
   "cell_type": "code",
   "execution_count": 19,
   "id": "83ef9283",
   "metadata": {},
   "outputs": [
    {
     "name": "stdout",
     "output_type": "stream",
     "text": [
      "krish\n",
      "32\n",
      "ms123\n"
     ]
    }
   ],
   "source": [
    "class Person:\n",
    "    def __init__(self,name,age):\n",
    "        self.name=name\n",
    "        self.age=age\n",
    "\n",
    "class Employee(Person):\n",
    "    def __init__(self,name,age,employee_id):\n",
    "        super().__init__(name,age)\n",
    "        self.employee_id=employee_id\n",
    "\n",
    "employee=Employee(\"krish\",32,'ms123')\n",
    "print(employee.name)\n",
    "print(employee.age)\n",
    "print(employee.employee_id)\n"
   ]
  },
  {
   "cell_type": "code",
   "execution_count": 22,
   "id": "64513bb0",
   "metadata": {},
   "outputs": [
    {
     "name": "stdout",
     "output_type": "stream",
     "text": [
      "Employee(name:Alice,age:30,id:E123)\n"
     ]
    }
   ],
   "source": [
    "class Employee:\n",
    "    def __init__(self,name,age,e_id):\n",
    "        self.name=name\n",
    "        self.age=age\n",
    "        self.id=e_id\n",
    "\n",
    "    def __str__(self):\n",
    "        return f\"Employee(name:{self.name},age:{self.age},id:{self.id})\"\n",
    "\n",
    "employee = Employee('Alice', 30, 'E123')\n",
    "\n",
    "print(employee)"
   ]
  },
  {
   "cell_type": "code",
   "execution_count": 23,
   "id": "7465c99d",
   "metadata": {},
   "outputs": [
    {
     "name": "stdout",
     "output_type": "stream",
     "text": [
      "wallstreet NewYork 410401\n"
     ]
    }
   ],
   "source": [
    "class Address:\n",
    "    def __init__(self,street,city,pincode):\n",
    "        self.street=street\n",
    "        self.city=city\n",
    "        self.pincode=pincode\n",
    "\n",
    "class Person:\n",
    "    def __init__(self,name,address):\n",
    "        self.name=name\n",
    "        self.address=address\n",
    "\n",
    "address=Address(\"wallstreet\",\"NewYork\",410401)\n",
    "person = Person(\"Jonh\",address)\n",
    "print(person.address.street,person.address.city,person.address.pincode) # --> class composition"
   ]
  },
  {
   "cell_type": "code",
   "execution_count": 26,
   "id": "b9d625e8",
   "metadata": {},
   "outputs": [
    {
     "name": "stdout",
     "output_type": "stream",
     "text": [
      "5\n"
     ]
    }
   ],
   "source": [
    "class Counter:\n",
    "    count=0\n",
    "    def __init__(self):\n",
    "        Counter.count+=1\n",
    "\n",
    "    @classmethod\n",
    "    def get_count(cls):\n",
    "        return cls.count\n",
    "    \n",
    "c1=Counter()\n",
    "c2=Counter()\n",
    "c3=Counter()\n",
    "c4=Counter()\n",
    "c5=Counter()\n",
    "print(Counter.get_count())\n"
   ]
  },
  {
   "cell_type": "code",
   "execution_count": 27,
   "id": "644ed14f",
   "metadata": {},
   "outputs": [
    {
     "name": "stdout",
     "output_type": "stream",
     "text": [
      "2.0\n"
     ]
    }
   ],
   "source": [
    "import math\n",
    "\n",
    "class MathOperations:\n",
    "    @staticmethod\n",
    "    def sqrt(x):\n",
    "        return math.sqrt(x)\n",
    "    \n",
    "print(MathOperations.sqrt(4))"
   ]
  },
  {
   "cell_type": "code",
   "execution_count": 32,
   "id": "1278a3b7",
   "metadata": {},
   "outputs": [
    {
     "name": "stdout",
     "output_type": "stream",
     "text": [
      "10 5\n",
      "1 7\n"
     ]
    }
   ],
   "source": [
    "class Rectangle:\n",
    "    def __init__(self,width,height):\n",
    "        self.__width=width\n",
    "        self.__height=height\n",
    "    \n",
    "    @property\n",
    "    def width(self):\n",
    "        return self.__width\n",
    "    @property\n",
    "    def height(self):\n",
    "        return self.__height\n",
    "    \n",
    "    @width.setter\n",
    "    def width(self,width):\n",
    "        self.__width=width\n",
    "\n",
    "    @height.setter\n",
    "    def height(self,height):\n",
    "        self.__height=height\n",
    "\n",
    "rect = Rectangle(10, 5)\n",
    "print(rect.width, rect.height)\n",
    "rect.width = 1\n",
    "rect.height= 7\n",
    "print(rect.width,rect.height)"
   ]
  },
  {
   "cell_type": "code",
   "execution_count": 33,
   "id": "758a2235",
   "metadata": {},
   "outputs": [
    {
     "name": "stdout",
     "output_type": "stream",
     "text": [
      "78.53981633974483\n",
      "16\n"
     ]
    }
   ],
   "source": [
    "from abc import ABC, abstractmethod\n",
    "\n",
    "class Shape(ABC):\n",
    "    @abstractmethod\n",
    "    def area(self):\n",
    "        pass\n",
    "\n",
    "class Circle(Shape):\n",
    "    def __init__(self, radius):\n",
    "        self.radius = radius\n",
    "\n",
    "    def area(self):\n",
    "        return math.pi * self.radius ** 2\n",
    "\n",
    "class Square(Shape):\n",
    "    def __init__(self, side):\n",
    "        self.side = side\n",
    "\n",
    "    def area(self):\n",
    "        return self.side ** 2\n",
    "    \n",
    "\n",
    "circle = Circle(5)\n",
    "square = Square(4)\n",
    "print(circle.area())  # 78.53981633974483\n",
    "print(square.area())"
   ]
  },
  {
   "cell_type": "code",
   "execution_count": 34,
   "id": "4f1834ef",
   "metadata": {},
   "outputs": [],
   "source": [
    "#  Que 11)"
   ]
  },
  {
   "cell_type": "code",
   "execution_count": null,
   "id": "ef90573a",
   "metadata": {},
   "outputs": [],
   "source": []
  }
 ],
 "metadata": {
  "kernelspec": {
   "display_name": "Python 3",
   "language": "python",
   "name": "python3"
  },
  "language_info": {
   "codemirror_mode": {
    "name": "ipython",
    "version": 3
   },
   "file_extension": ".py",
   "mimetype": "text/x-python",
   "name": "python",
   "nbconvert_exporter": "python",
   "pygments_lexer": "ipython3",
   "version": "3.12.1"
  }
 },
 "nbformat": 4,
 "nbformat_minor": 5
}
