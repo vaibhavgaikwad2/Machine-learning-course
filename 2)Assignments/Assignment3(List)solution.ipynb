{
 "cells": [
  {
   "cell_type": "markdown",
   "metadata": {},
   "source": [
    "# Module 3: Data Structures Assignments\n",
    "## Lesson 3.1: Lists\n",
    "### Assignment 1: Creating and Accessing Lists\n",
    "\n",
    "Create a list of the first 20 positive integers. Print the list.\n",
    "\n",
    "### Assignment 2: Accessing List Elements\n",
    "\n",
    "Print the first, middle, and last elements of the list created in Assignment 1.\n",
    "\n",
    "### Assignment 3: List Slicing\n",
    "\n",
    "Print the first five elements, the last five elements, and the elements from index 5 to 15 of the list created in Assignment 1.\n",
    "\n",
    "### Assignment 4: List Comprehensions\n",
    "\n",
    "Create a new list containing the squares of the first 10 positive integers using a list comprehension. Print the new list.\n",
    "\n",
    "### Assignment 5: Filtering Lists\n",
    "\n",
    "Create a new list containing only the even numbers from the list created in Assignment 1 using a list comprehension. Print the new list.\n",
    "\n",
    "### Assignment 6: List Methods\n",
    "\n",
    "Create a list of random numbers and sort it in ascending and descending order. Remove the duplicates from the list and print the modified list.\n",
    "\n",
    "### Assignment 7: Nested Lists\n",
    "\n",
    "Create a nested list representing a 3x3 matrix and print the matrix. Access and print the element at the second row and third column.\n",
    "\n",
    "### Assignment 8: List of Dictionaries\n",
    "\n",
    "Create a list of dictionaries where each dictionary represents a student with keys 'name' and 'score'. Sort the list of dictionaries by the 'score' in descending order and print the sorted list.\n",
    "\n",
    "### Assignment 9: Matrix Transposition\n",
    "\n",
    "Write a function that takes a 3x3 matrix (nested list) as input and returns its transpose. Print the original and transposed matrices.\n",
    "\n",
    "### Assignment 10: Flattening a Nested List\n",
    "\n",
    "Write a function that takes a nested list and flattens it into a single list. Print the original and flattened lists.\n",
    "\n",
    "### Assignment 11: List Manipulation\n",
    "\n",
    "Create a list of the first 10 positive integers. Remove the elements at indices 2, 4, and 6, and insert the element '99' at index 5. Print the modified list.\n",
    "\n",
    "### Assignment 12: List Zipping\n",
    "\n",
    "Create two lists of the same length. Use the `zip` function to combine these lists into a list of tuples and print the result.\n",
    "\n",
    "### Assignment 13: List Reversal\n",
    "\n",
    "Write a function that takes a list and returns a new list with the elements in reverse order. Print the original and reversed lists.\n",
    "\n",
    "### Assignment 14: List Rotation\n",
    "\n",
    "Write a function that rotates a list by n positions. Print the original and rotated lists.\n",
    "\n",
    "### Assignment 15: List Intersection\n",
    "\n",
    "Write a function that takes two lists and returns a new list containing only the elements that are present in both lists. Print the intersected list."
   ]
  },
  {
   "cell_type": "code",
   "execution_count": 3,
   "metadata": {},
   "outputs": [
    {
     "name": "stdout",
     "output_type": "stream",
     "text": [
      "[1, 2, 3, 4, 5, 6, 7, 8, 9, 10, 11, 12, 13, 14, 15, 16, 17, 18, 19, 20]\n"
     ]
    }
   ],
   "source": [
    "# Que 1)\n",
    "lst=list(range(1,21))\n",
    "print(lst)"
   ]
  },
  {
   "cell_type": "code",
   "execution_count": 7,
   "id": "728df209",
   "metadata": {},
   "outputs": [
    {
     "name": "stdout",
     "output_type": "stream",
     "text": [
      "first element:1\n",
      "middle element:11\n",
      "last element:20\n"
     ]
    }
   ],
   "source": [
    "# Que 2)\n",
    "print(f\"first element:{lst[0]}\")\n",
    "print(f\"middle element:{lst[len(lst)//2]}\")\n",
    "print(f\"last element:{lst[-1]}\")"
   ]
  },
  {
   "cell_type": "code",
   "execution_count": 13,
   "id": "053d0443",
   "metadata": {},
   "outputs": [
    {
     "name": "stdout",
     "output_type": "stream",
     "text": [
      "[1, 2, 3, 4, 5]\n",
      "[16, 17, 18, 19, 20]\n",
      "[6, 7, 8, 9, 10, 11, 12, 13, 14, 15, 16]\n"
     ]
    }
   ],
   "source": [
    "# Que 3)\n",
    "print(lst[:5])\n",
    "print(lst[-5:])\n",
    "print(lst[5:16])"
   ]
  },
  {
   "cell_type": "code",
   "execution_count": 17,
   "id": "2ed38789",
   "metadata": {},
   "outputs": [
    {
     "data": {
      "text/plain": [
       "[1, 4, 9, 16, 25, 36, 49, 64, 81, 100]"
      ]
     },
     "execution_count": 17,
     "metadata": {},
     "output_type": "execute_result"
    }
   ],
   "source": [
    "# Que 4)\n",
    "square=[num**2 for num in range(1,11)]\n",
    "square"
   ]
  },
  {
   "cell_type": "code",
   "execution_count": 20,
   "id": "52808838",
   "metadata": {},
   "outputs": [
    {
     "data": {
      "text/plain": [
       "[2, 4, 6, 8, 10, 12, 14, 16, 18, 20]"
      ]
     },
     "execution_count": 20,
     "metadata": {},
     "output_type": "execute_result"
    }
   ],
   "source": [
    "#Que 5)\n",
    "evenlst=[x for x in lst if x%2==0]\n",
    "evenlst"
   ]
  },
  {
   "cell_type": "code",
   "execution_count": 13,
   "id": "eaee8026",
   "metadata": {},
   "outputs": [
    {
     "name": "stdout",
     "output_type": "stream",
     "text": [
      "Original list : [13, 8, 3, 3, 15, 20, 8, 14, 2, 4, 5, 16, 4, 19, 13]\n",
      "Sorted list in ascending order : [2, 3, 3, 4, 4, 5, 8, 8, 13, 13, 14, 15, 16, 19, 20]\n",
      "sorted list in descending order : [20, 19, 16, 15, 14, 13, 13, 8, 8, 5, 4, 4, 3, 3, 2]\n",
      "List containing unique numbers : [2, 3, 4, 5, 8, 13, 14, 15, 16, 19, 20]\n"
     ]
    }
   ],
   "source": [
    "#Que 6)\n",
    "import random\n",
    "randomlist=[random.randint(1,20) for _ in range(15)]\n",
    "print(f\"Original list : {randomlist}\")\n",
    "\n",
    "sorted_asc=sorted(randomlist)\n",
    "print(f\"Sorted list in ascending order : {sorted_asc}\")\n",
    "\n",
    "sorted_dec=sorted(randomlist,reverse=True)\n",
    "print(f\"sorted list in descending order : {sorted_dec}\")\n",
    "\n",
    "unique_numbers=list(set(randomlist))\n",
    "print(f\"List containing unique numbers : {unique_numbers}\")"
   ]
  },
  {
   "cell_type": "code",
   "execution_count": 17,
   "id": "2bf8f4ba",
   "metadata": {},
   "outputs": [
    {
     "name": "stdout",
     "output_type": "stream",
     "text": [
      "matrix : [[1, 2, 3], [4, 5, 6], [7, 8, 9]]\n",
      "[1, 2, 3]\n",
      "[4, 5, 6]\n",
      "[7, 8, 9]\n",
      "Element at second row and third coloumn 6\n"
     ]
    }
   ],
   "source": [
    "# Que 7)\n",
    "matrix = [\n",
    "    [1,2,3],\n",
    "    [4,5,6],\n",
    "    [7,8,9]\n",
    "]\n",
    "\n",
    "print(f\"matrix : {matrix}\")\n",
    "\n",
    "for row in matrix:\n",
    "    print(row)\n",
    "print(f\"Element at second row and third coloumn {matrix[1][2]}\")"
   ]
  },
  {
   "cell_type": "code",
   "execution_count": 1,
   "id": "981c00c6",
   "metadata": {},
   "outputs": [
    {
     "name": "stdout",
     "output_type": "stream",
     "text": [
      "Sorted students by score in descending order:\n",
      "{'name': 'Charlie', 'score': 95}\n",
      "{'name': 'Alice', 'score': 88}\n",
      "{'name': 'Eve', 'score': 78}\n",
      "{'name': 'Bob', 'score': 72}\n",
      "{'name': 'David', 'score': 65}\n"
     ]
    }
   ],
   "source": [
    "# Que 8)\n",
    "students = [\n",
    "    {'name': 'Alice', 'score': 88},\n",
    "    {'name': 'Bob', 'score': 72},\n",
    "    {'name': 'Charlie', 'score': 95},\n",
    "    {'name': 'David', 'score': 65},\n",
    "    {'name': 'Eve', 'score': 78}\n",
    "]\n",
    "sorted_students = sorted(students, key=lambda x: x['score'], reverse=True)\n",
    "print(\"Sorted students by score in descending order:\")\n",
    "for student in sorted_students:\n",
    "    print(student)"
   ]
  },
  {
   "cell_type": "code",
   "execution_count": 2,
   "id": "f7b8ecc9",
   "metadata": {},
   "outputs": [
    {
     "name": "stdout",
     "output_type": "stream",
     "text": [
      "Original matrix:\n",
      "[1, 2, 3]\n",
      "[4, 5, 6]\n",
      "[7, 8, 9]\n",
      "Transposed matrix:\n",
      "[1, 4, 7]\n",
      "[2, 5, 8]\n",
      "[3, 6, 9]\n"
     ]
    }
   ],
   "source": [
    "# Que 9)\n",
    "def transpose_matrix(matrix):\n",
    "    transposed = [[matrix[j][i] for j in range(len(matrix))] for i in range(len(matrix[0]))]\n",
    "    return transposed\n",
    "\n",
    "matrix = [\n",
    "    [1, 2, 3],\n",
    "    [4, 5, 6],\n",
    "    [7, 8, 9]\n",
    "]\n",
    "transposed = transpose_matrix(matrix)\n",
    "print(\"Original matrix:\")\n",
    "for row in matrix:\n",
    "    print(row)\n",
    "print(\"Transposed matrix:\")\n",
    "for row in transposed:\n",
    "    print(row)"
   ]
  },
  {
   "cell_type": "code",
   "execution_count": 1,
   "id": "2d011b86",
   "metadata": {},
   "outputs": [
    {
     "name": "stdout",
     "output_type": "stream",
     "text": [
      "Original List [[1, 2, 3], [4, 5, 6], [8, 9, 10]]\n",
      "flattened List [1, 2, 3, 4, 5, 6, 8, 9, 10]\n"
     ]
    }
   ],
   "source": [
    "# Que 10)\n",
    "def flatten_list(nested_list):\n",
    "    flat_list=[item for sublist in nested_list for item in sublist]\n",
    "\n",
    "    return flat_list\n",
    "nested_list=[\n",
    "    [1,2,3],\n",
    "    [4,5,6],\n",
    "    [8,9,10]\n",
    "]\n",
    "\n",
    "flattened = flatten_list(nested_list)\n",
    "print(f\"Original List {nested_list}\")\n",
    "print(f\"flattened List {flattened}\")\n"
   ]
  },
  {
   "cell_type": "code",
   "execution_count": 19,
   "id": "fdb4da99",
   "metadata": {},
   "outputs": [
    {
     "name": "stdout",
     "output_type": "stream",
     "text": [
      "[1, 2, 3, 4, 5, 6, 7, 8, 9, 10]\n",
      "[1, 3, 5, 7, 8, 9, 10]\n"
     ]
    },
    {
     "data": {
      "text/plain": [
       "[1, 3, 5, 7, 8, 99, 9, 10]"
      ]
     },
     "execution_count": 19,
     "metadata": {},
     "output_type": "execute_result"
    }
   ],
   "source": [
    "# Que 11)\n",
    "\n",
    "lst = list(range(1,11))\n",
    "print(lst)\n",
    "\n",
    "lst.remove(2)\n",
    "lst.remove(4)\n",
    "lst.remove(6)\n",
    "print(lst)\n",
    "\n",
    "lst.insert(5,99)\n",
    "lst"
   ]
  },
  {
   "cell_type": "code",
   "execution_count": 3,
   "id": "41923591",
   "metadata": {},
   "outputs": [
    {
     "name": "stdout",
     "output_type": "stream",
     "text": [
      "[(1, 9), (2, 8), (3, 7), (4, 6), (5, 10)]\n"
     ]
    }
   ],
   "source": [
    "# Que 12)\n",
    "lst1 = [1,2,3,4,5]\n",
    "lst2 = [9,8,7,6,10]\n",
    "\n",
    "zipped = list(zip(lst1,lst2))\n",
    "print(zipped)"
   ]
  },
  {
   "cell_type": "code",
   "execution_count": 5,
   "id": "8bcfc2b1",
   "metadata": {},
   "outputs": [
    {
     "name": "stdout",
     "output_type": "stream",
     "text": [
      "Original list [1, 2, 3, 4, 5, 6, 7, 8, 9]\n",
      "Reversed list [9, 8, 7, 6, 5, 4, 3, 2, 1]\n"
     ]
    }
   ],
   "source": [
    "# Que 13)\n",
    "def reverse_list(lst):\n",
    "    return lst[::-1]\n",
    "\n",
    "original_lst = [1,2,3,4,5,6,7,8,9]\n",
    "reversed_lst = reverse_list(original_lst)\n",
    "print(f\"Original list {original_lst}\")\n",
    "print(f\"Reversed list {reversed_lst}\")\n",
    "\n"
   ]
  },
  {
   "cell_type": "code",
   "execution_count": 16,
   "id": "10e2681d",
   "metadata": {},
   "outputs": [],
   "source": [
    "#Que 14)\n"
   ]
  },
  {
   "cell_type": "code",
   "execution_count": 2,
   "id": "31f57290",
   "metadata": {},
   "outputs": [],
   "source": [
    "# Que 15)"
   ]
  }
 ],
 "metadata": {
  "kernelspec": {
   "display_name": "Python 3",
   "language": "python",
   "name": "python3"
  },
  "language_info": {
   "codemirror_mode": {
    "name": "ipython",
    "version": 3
   },
   "file_extension": ".py",
   "mimetype": "text/x-python",
   "name": "python",
   "nbconvert_exporter": "python",
   "pygments_lexer": "ipython3",
   "version": "3.12.1"
  }
 },
 "nbformat": 4,
 "nbformat_minor": 5
}
