{
 "cells": [
  {
   "cell_type": "markdown",
   "metadata": {},
   "source": [
    "# Module 5: Modules and Packages Assignments\n",
    "## Lesson 5.1: Importing Modules\n",
    "### Assignment 1: Importing and Using Modules\n",
    "\n",
    "Import the `math` module and use it to calculate the square root of 25 and the sine of 90 degrees.\n",
    "\n",
    "### Assignment 2: Aliasing Modules\n",
    "\n",
    "Import the `datetime` module with an alias and use it to print the current date and time.\n",
    "\n",
    "### Assignment 3: Importing Specific Functions\n",
    "\n",
    "Import the `randint` function from the `random` module and use it to generate a random integer between 1 and 100.\n",
    "\n",
    "### Assignment 4: Importing Multiple Functions\n",
    "\n",
    "Import the `sqrt` and `pow` functions from the `math` module and use them to calculate the square root of 16 and 2 raised to the power of 3.\n",
    "\n",
    "### Assignment 5: Handling Import Errors\n",
    "\n",
    "Write code that attempts to import a non-existent module and gracefully handles the import error by printing an error message.\n",
    "\n",
    "## Lesson 5.2: Standard Library Overview\n",
    "### Assignment 6: Working with the `os` Module\n",
    "\n",
    "Use the `os` module to create a new directory, list the contents of the current directory, and remove the newly created directory.\n",
    "\n",
    "### Assignment 7: Working with the `sys` Module\n",
    "\n",
    "Use the `sys` module to print the Python version currently in use and the command-line arguments passed to the script.\n",
    "\n",
    "### Assignment 8: Working with the `math` Module\n",
    "\n",
    "Use the `math` module to calculate the greatest common divisor (GCD) of two numbers and the factorial of a number.\n",
    "\n",
    "### Assignment 9: Working with the `datetime` Module\n",
    "\n",
    "Use the `datetime` module to print the current date, calculate the date 100 days from today, and determine the day of the week for a given date.\n",
    "\n",
    "### Assignment 10: Working with the `random` Module\n",
    "\n",
    "Use the `random` module to generate a list of 5 random numbers between 1 and 50 and shuffle the elements of a list.\n",
    "\n",
    "## Lesson 5.3: Creating and Using Packages\n",
    "### Assignment 11: Creating a Simple Package\n",
    "\n",
    "Create a package named `mypackage` with two modules: `module1` and `module2`. `module1` should contain a function that adds two numbers, and `module2` should contain a function that multiplies two numbers. Write code to use these functions.\n",
    "\n",
    "### Assignment 12: Using `__init__.py`\n",
    "\n",
    "Modify the `mypackage` package to include an `__init__.py` file that imports the functions from `module1` and `module2`. Write code to use these functions.\n",
    "\n",
    "### Assignment 13: Importing from a Package\n",
    "\n",
    "Write code to import and use the functions from `mypackage` without explicitly importing `module1` and `module2`.\n",
    "\n",
    "### Assignment 14: Relative Imports\n",
    "\n",
    "Create a subpackage named `subpackage` within `mypackage` and move `module2` into `subpackage`. Modify the import statements in `__init__.py` to use relative imports. Write code to use the functions from both modules.\n",
    "\n",
    "### Assignment 15: Handling Package Import Errors\n",
    "\n",
    "Write code that attempts to import a non-existent function from `mypackage` and gracefully handles the import error by printing an error message."
   ]
  },
  {
   "cell_type": "markdown",
   "id": "7f049506",
   "metadata": {},
   "source": [
    "Solution of the Assignments : --->\n"
   ]
  },
  {
   "cell_type": "code",
   "execution_count": 35,
   "id": "acd4b52f",
   "metadata": {},
   "outputs": [
    {
     "name": "stdout",
     "output_type": "stream",
     "text": [
      "5.0\n",
      "0.8939966636005579\n"
     ]
    }
   ],
   "source": [
    "from math import *\n",
    "print(sqrt(25))\n",
    "print(sin(90))"
   ]
  },
  {
   "cell_type": "code",
   "execution_count": 36,
   "metadata": {},
   "outputs": [
    {
     "name": "stdout",
     "output_type": "stream",
     "text": [
      "2025-01-06 15:21:46.900881\n"
     ]
    }
   ],
   "source": [
    "from datetime import *\n",
    "print(datetime.now())"
   ]
  },
  {
   "cell_type": "code",
   "execution_count": 37,
   "id": "cfb11299",
   "metadata": {},
   "outputs": [
    {
     "name": "stdout",
     "output_type": "stream",
     "text": [
      "71\n"
     ]
    }
   ],
   "source": [
    "import random\n",
    "print(random.randint(1,100))"
   ]
  },
  {
   "cell_type": "code",
   "execution_count": 38,
   "id": "9e2e23d0",
   "metadata": {},
   "outputs": [
    {
     "name": "stdout",
     "output_type": "stream",
     "text": [
      "4.0\n",
      "8.0\n"
     ]
    }
   ],
   "source": [
    "from math import sqrt, pow\n",
    "print(sqrt(16))\n",
    "print(pow(2,3))"
   ]
  },
  {
   "cell_type": "code",
   "execution_count": 39,
   "id": "5067268a",
   "metadata": {},
   "outputs": [
    {
     "name": "stdout",
     "output_type": "stream",
     "text": [
      "Error importing module: No module named 'non_existent_module'\n"
     ]
    }
   ],
   "source": [
    "try:\n",
    "    import non_existent_module\n",
    "except ImportError as e:\n",
    "    print(f\"Error importing module: {e}\")"
   ]
  },
  {
   "cell_type": "code",
   "execution_count": 40,
   "id": "17e2bde6",
   "metadata": {},
   "outputs": [
    {
     "name": "stdout",
     "output_type": "stream",
     "text": [
      "['Assignment8(Modules&Packages)solution.ipynb', 'mypackages', 'newdir']\n"
     ]
    }
   ],
   "source": [
    "import os\n",
    "os.mkdir(\"newdir\")\n",
    "print(os.listdir('.'))\n",
    "\n"
   ]
  },
  {
   "cell_type": "code",
   "execution_count": 41,
   "id": "8efb498d",
   "metadata": {},
   "outputs": [],
   "source": [
    "os.rmdir('newdir')"
   ]
  },
  {
   "cell_type": "code",
   "execution_count": 42,
   "id": "85f0983d",
   "metadata": {},
   "outputs": [
    {
     "name": "stdout",
     "output_type": "stream",
     "text": [
      "current python version : 3.12.1 (tags/v3.12.1:2305ca5, Dec  7 2023, 22:03:25) [MSC v.1937 64 bit (AMD64)]\n",
      "command line args : ['C:\\\\Users\\\\vaibh\\\\AppData\\\\Roaming\\\\Python\\\\Python312\\\\site-packages\\\\ipykernel_launcher.py', '--f=c:\\\\Users\\\\vaibh\\\\AppData\\\\Roaming\\\\jupyter\\\\runtime\\\\kernel-v373d3a4244389c3ae292bcb8f4dd400b96b46d645.json']\n"
     ]
    }
   ],
   "source": [
    "import sys\n",
    "print(f\"current python version : {sys.version}\")\n",
    "print(f\"command line args : {sys.argv}\")"
   ]
  },
  {
   "cell_type": "code",
   "execution_count": 43,
   "id": "b1ac866d",
   "metadata": {},
   "outputs": [
    {
     "name": "stdout",
     "output_type": "stream",
     "text": [
      "2\n",
      "120\n"
     ]
    }
   ],
   "source": [
    "import math\n",
    "print(math.gcd(2,6))\n",
    "print(math.factorial(5))"
   ]
  },
  {
   "cell_type": "code",
   "execution_count": 44,
   "id": "7ebedaf1",
   "metadata": {},
   "outputs": [
    {
     "name": "stdout",
     "output_type": "stream",
     "text": [
      "2025-01-06\n",
      "2025-01-06 15:21:46.992422\n",
      "2025-04-16\n",
      "Day of the week for given date is Friday\n"
     ]
    }
   ],
   "source": [
    "import datetime \n",
    "print(datetime.date.today())\n",
    "print(datetime.datetime.now())\n",
    "future_date=datetime.date.today() + datetime.timedelta(days=100)\n",
    "print(future_date)\n",
    "\n",
    "given_date = datetime.date(2025,1,3)\n",
    "print(f\"Day of the week for given date is {given_date.strftime('%A')}\")"
   ]
  },
  {
   "cell_type": "code",
   "execution_count": 45,
   "id": "aa71b97c",
   "metadata": {},
   "outputs": [
    {
     "name": "stdout",
     "output_type": "stream",
     "text": [
      "[8, 15, 23, 34, 39]\n",
      "[15, 34, 39, 23, 8]\n"
     ]
    }
   ],
   "source": [
    "import random \n",
    "random_numbers = [random.randint(1,50) for _ in range(5)]\n",
    "print(random_numbers)\n",
    "\n",
    "random.shuffle(random_numbers)\n",
    "\n",
    "print(random_numbers)"
   ]
  },
  {
   "cell_type": "code",
   "execution_count": 46,
   "id": "a856b076",
   "metadata": {},
   "outputs": [
    {
     "name": "stdout",
     "output_type": "stream",
     "text": [
      "6\n",
      "8\n"
     ]
    }
   ],
   "source": [
    "from mypackages import module1, module2\n",
    "\n",
    "print(module1.addi(2,4))\n",
    "print(module2.multii(2,4))"
   ]
  },
  {
   "cell_type": "code",
   "execution_count": 47,
   "id": "e2c2e1e4",
   "metadata": {},
   "outputs": [
    {
     "name": "stdout",
     "output_type": "stream",
     "text": [
      "6\n"
     ]
    }
   ],
   "source": [
    "from mypackages import * #--> this shows error when package is in use in previous code\n",
    "print(addi(2,4))"
   ]
  },
  {
   "cell_type": "code",
   "execution_count": 50,
   "id": "740851d2",
   "metadata": {},
   "outputs": [
    {
     "data": {
      "text/plain": [
       "0.5"
      ]
     },
     "execution_count": 50,
     "metadata": {},
     "output_type": "execute_result"
    }
   ],
   "source": [
    "from mypackages.subpackage.module3 import divide\n",
    "divide(4,8)"
   ]
  },
  {
   "cell_type": "code",
   "execution_count": 51,
   "id": "73f3beb1",
   "metadata": {},
   "outputs": [
    {
     "name": "stdout",
     "output_type": "stream",
     "text": [
      "Error importing function: cannot import name 'non_existent_function' from 'mypackages' (d:\\AIML\\GIT\\Machine-learning-course\\2)Assignments\\Assignment8(modules&packages)solution\\mypackages\\__init__.py)\n"
     ]
    }
   ],
   "source": [
    "try:\n",
    "    from mypackages import non_existent_function\n",
    "except ImportError as e:\n",
    "    print(f\"Error importing function: {e}\")"
   ]
  },
  {
   "cell_type": "markdown",
   "id": "2129fd53",
   "metadata": {},
   "source": [
    ".........................................END OF SOLUTION.................................."
   ]
  }
 ],
 "metadata": {
  "kernelspec": {
   "display_name": "Python 3",
   "language": "python",
   "name": "python3"
  },
  "language_info": {
   "codemirror_mode": {
    "name": "ipython",
    "version": 3
   },
   "file_extension": ".py",
   "mimetype": "text/x-python",
   "name": "python",
   "nbconvert_exporter": "python",
   "pygments_lexer": "ipython3",
   "version": "3.12.1"
  }
 },
 "nbformat": 4,
 "nbformat_minor": 5
}
