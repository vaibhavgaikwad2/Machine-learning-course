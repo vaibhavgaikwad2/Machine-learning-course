{
 "cells": [
  {
   "cell_type": "markdown",
   "metadata": {},
   "source": [
    "# Module: Exception Handling Assignments\n",
    "## Lesson: Exception Handling with try, except, and finally\n",
    "### Assignment 1: Handling Division by Zero\n",
    "\n",
    "Write a function that takes two integers as input and returns their division. Use try, except, and finally blocks to handle division by zero and print an appropriate message.\n",
    "\n",
    "### Assignment 2: File Reading with Exception Handling\n",
    "\n",
    "Write a function that reads the contents of a file named `data.txt`. Use try, except, and finally blocks to handle file not found errors and ensure the file is properly closed.\n",
    "\n",
    "### Assignment 3: Handling Multiple Exceptions\n",
    "\n",
    "Write a function that takes a list of integers and returns their sum. Use try, except, and finally blocks to handle TypeError if a non-integer value is encountered and print an appropriate message.\n",
    "\n",
    "### Assignment 4: Exception Handling in User Input\n",
    "\n",
    "Write a function that prompts the user to enter an integer. Use try, except, and finally blocks to handle ValueError if the user enters a non-integer value and print an appropriate message.\n",
    "\n",
    "### Assignment 5: Exception Handling in Dictionary Access\n",
    "\n",
    "Write a function that takes a dictionary and a key as input and returns the value associated with the key. Use try, except, and finally blocks to handle KeyError if the key is not found in the dictionary and print an appropriate message.\n",
    "\n",
    "### Assignment 6: Nested Exception Handling\n",
    "\n",
    "Write a function that performs nested exception handling. It should first attempt to convert a string to an integer, and then attempt to divide by that integer. Use nested try, except, and finally blocks to handle ValueError and ZeroDivisionError and print appropriate messages.\n",
    "\n",
    "### Assignment 7: Exception Handling in List Operations\n",
    "\n",
    "Write a function that takes a list and an index as input and returns the element at the given index. Use try, except, and finally blocks to handle IndexError if the index is out of range and print an appropriate message.\n",
    "\n",
    "### Assignment 8: Exception Handling in Network Operations\n",
    "\n",
    "Write a function that attempts to open a URL and read its contents. Use try, except, and finally blocks to handle network-related errors and print an appropriate message.\n",
    "\n",
    "### Assignment 9: Exception Handling in JSON Parsing\n",
    "\n",
    "Write a function that attempts to parse a JSON string. Use try, except, and finally blocks to handle JSONDecodeError if the string is not a valid JSON and print an appropriate message.\n",
    "\n",
    "### Assignment 10: Custom Exception Handling\n",
    "\n",
    "Define a custom exception named `NegativeNumberError`. Write a function that raises this exception if a negative number is encountered in a list. Use try, except, and finally blocks to handle the custom exception and print an appropriate message.\n",
    "\n",
    "### Assignment 11: Exception Handling in Function Calls\n",
    "\n",
    "Write a function that calls another function which may raise an exception. Use try, except, and finally blocks to handle the exception and print an appropriate message.\n",
    "\n",
    "### Assignment 12: Exception Handling in Class Methods\n",
    "\n",
    "Define a class with a method that performs a division operation. Use try, except, and finally blocks within the method to handle division by zero and print an appropriate message.\n",
    "\n",
    "### Assignment 13: Exception Handling in Data Conversion\n",
    "\n",
    "Write a function that takes a list of strings and converts them to integers. Use try, except, and finally blocks to handle ValueError if a string cannot be converted and print an appropriate message.\n",
    "\n",
    "### Assignment 14: Exception Handling in List Comprehensions\n",
    "\n",
    "Write a function that uses a list comprehension to convert a list of strings to integers. Use try, except, and finally blocks within the list comprehension to handle ValueError and print an appropriate message.\n",
    "\n",
    "### Assignment 15: Exception Handling in File Writing\n",
    "\n",
    "Write a function that attempts to write a list of strings to a file. Use try, except, and finally blocks to handle IOError and ensure the file is properly closed."
   ]
  },
  {
   "cell_type": "code",
   "execution_count": 4,
   "metadata": {},
   "outputs": [],
   "source": [
    "# Que 15)\n",
    "def ioerror(file_name,strings):\n",
    "    try:\n",
    "    \n",
    "        with open(file_name,'w')as file:\n",
    "            for string in strings:\n",
    "\n",
    "                file.write(string +'\\n')\n",
    "    except IOError as ex:\n",
    "        print(ex)\n",
    "    finally:\n",
    "        try:\n",
    "            file.close()\n",
    "        except NameError:\n",
    "            pass\n",
    "        \n",
    "\n",
    "\n",
    "ioerror(\"IO.txt\",[\"hello\",\"world\",\"name\"])"
   ]
  },
  {
   "cell_type": "code",
   "execution_count": 8,
   "id": "1086043f",
   "metadata": {},
   "outputs": [
    {
     "name": "stdout",
     "output_type": "stream",
     "text": [
      "invalid literal for int() with base 10: 'char'\n",
      "execution is completed\n",
      "execution is completed\n"
     ]
    },
    {
     "data": {
      "text/plain": [
       "[12]"
      ]
     },
     "execution_count": 8,
     "metadata": {},
     "output_type": "execute_result"
    }
   ],
   "source": [
    "# Que 14)\n",
    "def lst_compre(lst):\n",
    "    try:\n",
    "        integers = [int(item) for item in lst]\n",
    "    except ValueError as ex:\n",
    "        print(ex)\n",
    "        integers = None\n",
    "    finally:\n",
    "        print(\"execution is completed\")\n",
    "    return integers\n",
    "\n",
    "lst_compre([\"char\"])\n",
    "lst_compre([\"12\"])"
   ]
  },
  {
   "cell_type": "code",
   "execution_count": 12,
   "id": "f2c87a29",
   "metadata": {},
   "outputs": [
    {
     "name": "stdout",
     "output_type": "stream",
     "text": [
      "Error : invalid literal for int() with base 10: 'char'\n",
      "execution is completed\n",
      "execution is completed\n"
     ]
    },
    {
     "data": {
      "text/plain": [
       "[1, 2, 3]"
      ]
     },
     "execution_count": 12,
     "metadata": {},
     "output_type": "execute_result"
    }
   ],
   "source": [
    "def lst_string(lst):\n",
    "    integers =[]\n",
    "    try:\n",
    "        for item in lst:\n",
    "            integers.append(int(item))\n",
    "    except ValueError as e:\n",
    "        print(f\"Error : {e}\")\n",
    "        integers = None\n",
    "\n",
    "    finally:\n",
    "        print(\"execution is completed\")\n",
    "    return integers\n",
    "\n",
    "lst_string(['10','12','char'])\n",
    "lst_string(['1','2','3'])"
   ]
  },
  {
   "cell_type": "code",
   "execution_count": 17,
   "id": "78c2f0af",
   "metadata": {},
   "outputs": [
    {
     "name": "stdout",
     "output_type": "stream",
     "text": [
      "division by zero\n",
      "execution completed\n",
      "None\n"
     ]
    }
   ],
   "source": [
    "class Division:\n",
    "    def divide(self,num):\n",
    "        try:\n",
    "            \n",
    "            result = 10/num\n",
    "        except ZeroDivisionError as ex:\n",
    "            print(ex)\n",
    "            result = None\n",
    "        finally:\n",
    "            print(\"execution completed\")\n",
    "        return result\n",
    "Div = Division()\n",
    "print(Div.divide(0))\n"
   ]
  },
  {
   "cell_type": "code",
   "execution_count": 20,
   "id": "d06b77ef",
   "metadata": {},
   "outputs": [
    {
     "name": "stdout",
     "output_type": "stream",
     "text": [
      "An error occured in riskey function\n",
      "code executed\n"
     ]
    }
   ],
   "source": [
    "def riskey_fun():\n",
    "    raise ValueError(\"An error occured in riskey function\")\n",
    "def safe_fun():\n",
    "    try:\n",
    "        riskey_fun()\n",
    "    except ValueError as e:\n",
    "        print(e)\n",
    "    finally:\n",
    "        print(\"code executed\")\n",
    "safe_fun()"
   ]
  },
  {
   "cell_type": "code",
   "execution_count": 21,
   "id": "086ab84e",
   "metadata": {},
   "outputs": [
    {
     "name": "stdout",
     "output_type": "stream",
     "text": [
      "Negative number is found : -2\n",
      "execution completed\n"
     ]
    }
   ],
   "source": [
    "class NegativeNumberError(Exception):\n",
    "    pass\n",
    "def check_negative_number(lst):\n",
    "    try:\n",
    "        for num in lst:\n",
    "            if num<0:\n",
    "                raise NegativeNumberError(f\"Negative number is found : {num}\")\n",
    "            \n",
    "    except NegativeNumberError as e:\n",
    "        print(e)\n",
    "\n",
    "    finally:\n",
    "        print(\"execution completed\")\n",
    "\n",
    "check_negative_number([1,-2,4])"
   ]
  },
  {
   "cell_type": "code",
   "execution_count": 22,
   "id": "708c53c2",
   "metadata": {},
   "outputs": [
    {
     "name": "stdout",
     "output_type": "stream",
     "text": [
      "code is executed\n",
      "{'name': 'John', 'age': 30}\n",
      "Expecting value: line 1 column 1 (char 0)\n",
      "code is executed\n",
      "None\n"
     ]
    }
   ],
   "source": [
    "import json\n",
    "\n",
    "def parse_json(json_string):\n",
    "    try:\n",
    "        data = json.loads(json_string)\n",
    "        return data\n",
    "    except json.JSONDecodeError as ex:\n",
    "        print(ex)\n",
    "        return None\n",
    "    finally:\n",
    "        print(\"code is executed\")\n",
    "\n",
    "print(parse_json('{\"name\": \"John\", \"age\": 30}'))\n",
    "print(parse_json('Invalid JSON'))"
   ]
  },
  {
   "cell_type": "code",
   "execution_count": 27,
   "id": "0e2a2fa8",
   "metadata": {},
   "outputs": [
    {
     "name": "stdout",
     "output_type": "stream",
     "text": [
      "execution completed\n"
     ]
    },
    {
     "data": {
      "text/plain": [
       "'{\\n  \"userId\": 1,\\n  \"id\": 1,\\n  \"title\": \"sunt aut facere repellat provident occaecati excepturi optio reprehenderit\",\\n  \"body\": \"quia et suscipit\\\\nsuscipit recusandae consequuntur expedita et cum\\\\nreprehenderit molestiae ut ut quas totam\\\\nnostrum rerum est autem sunt rem eveniet architecto\"\\n}'"
      ]
     },
     "execution_count": 27,
     "metadata": {},
     "output_type": "execute_result"
    }
   ],
   "source": [
    "import requests\n",
    "def read_url(url):\n",
    "    try:\n",
    "        responce = requests.get(url)\n",
    "        responce.raise_for_status()\n",
    "        return responce.text\n",
    "    except requests.RequestException as re:\n",
    "        print(f\"Network Error : {re}\")\n",
    "        return None\n",
    "\n",
    "    finally:\n",
    "        print(\"execution completed\")\n",
    "\n",
    "read_url(\"https://jsonplaceholder.typicode.com/posts/1\")\n",
    "\n"
   ]
  },
  {
   "cell_type": "code",
   "execution_count": 28,
   "id": "4cef0265",
   "metadata": {},
   "outputs": [
    {
     "name": "stdout",
     "output_type": "stream",
     "text": [
      "Network Error : HTTPSConnectionPool(host='nonexistent.url', port=443): Max retries exceeded with url: / (Caused by NameResolutionError(\"<urllib3.connection.HTTPSConnection object at 0x000001708C1A4530>: Failed to resolve 'nonexistent.url' ([Errno 11001] getaddrinfo failed)\"))\n",
      "execution completed\n"
     ]
    }
   ],
   "source": [
    "read_url('https://nonexistent.url')"
   ]
  },
  {
   "cell_type": "code",
   "execution_count": 32,
   "id": "c3efcf87",
   "metadata": {},
   "outputs": [
    {
     "name": "stdout",
     "output_type": "stream",
     "text": [
      "Execution is completed\n"
     ]
    },
    {
     "data": {
      "text/plain": [
       "6"
      ]
     },
     "execution_count": 32,
     "metadata": {},
     "output_type": "execute_result"
    }
   ],
   "source": [
    "def lst_func(lst,index):\n",
    "    try:\n",
    "        element = lst[index]\n",
    "    except IndexError as ie:\n",
    "        print(ie)\n",
    "        return None\n",
    "    finally:\n",
    "        print(\"Execution is completed\")\n",
    "    return element\n",
    "lst_func([2,5,8,6,3,8],3)\n"
   ]
  },
  {
   "cell_type": "code",
   "execution_count": 33,
   "id": "1e8e1cd5",
   "metadata": {},
   "outputs": [
    {
     "name": "stdout",
     "output_type": "stream",
     "text": [
      "list index out of range\n",
      "Execution is completed\n"
     ]
    }
   ],
   "source": [
    "lst_func([2,5,8,6,3,8],9)"
   ]
  },
  {
   "cell_type": "code",
   "execution_count": 36,
   "id": "bd34d423",
   "metadata": {},
   "outputs": [
    {
     "name": "stdout",
     "output_type": "stream",
     "text": [
      "conversion completed\n",
      "Division completed\n",
      "overall execution is completed\n",
      "0.43478260869565216\n",
      "invalid literal for int() with base 10: 'a'\n",
      "conversion completed\n",
      "overall execution is completed\n",
      "None\n"
     ]
    }
   ],
   "source": [
    "def nested_exception_handling(s):\n",
    "    try:\n",
    "        try:\n",
    "            num =int(s)\n",
    "        except ValueError as e:\n",
    "            print(e)\n",
    "            return None\n",
    "        finally:\n",
    "            print(\"conversion completed\")\n",
    "        if num is not None:\n",
    "            try:\n",
    "                result = 10/num\n",
    "            except ZeroDivisionError as ex:\n",
    "                print(ex)\n",
    "                result= None\n",
    "            finally:\n",
    "                print(\"Division completed\")\n",
    "            return result\n",
    "        \n",
    "    finally:\n",
    "        print(\"overall execution is completed\")\n",
    "\n",
    "print(nested_exception_handling(\"23\"))\n",
    "print(nested_exception_handling('a'))"
   ]
  },
  {
   "cell_type": "code",
   "execution_count": null,
   "id": "8283a4ea",
   "metadata": {},
   "outputs": [],
   "source": []
  }
 ],
 "metadata": {
  "kernelspec": {
   "display_name": "base",
   "language": "python",
   "name": "python3"
  },
  "language_info": {
   "codemirror_mode": {
    "name": "ipython",
    "version": 3
   },
   "file_extension": ".py",
   "mimetype": "text/x-python",
   "name": "python",
   "nbconvert_exporter": "python",
   "pygments_lexer": "ipython3",
   "version": "3.12.7"
  }
 },
 "nbformat": 4,
 "nbformat_minor": 5
}
