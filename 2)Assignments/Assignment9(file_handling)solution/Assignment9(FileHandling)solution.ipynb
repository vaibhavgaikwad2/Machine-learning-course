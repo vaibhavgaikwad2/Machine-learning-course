{
 "cells": [
  {
   "cell_type": "markdown",
   "metadata": {},
   "source": [
    "# Module: File Handling Assignments\n",
    "## Lesson: File Handling and Operations\n",
    "### Assignment 1: Reading a File\n",
    "\n",
    "Write a function that reads the contents of a file named `sample.txt` and prints each line.\n",
    "\n",
    "### Assignment 2: Writing to a File\n",
    "\n",
    "Write a function that writes a list of strings to a file named `output.txt`, with each string on a new line.\n",
    "\n",
    "### Assignment 3: Copying a File\n",
    "\n",
    "Write a function that copies the contents of a file named `source.txt` to a new file named `destination.txt`.\n",
    "\n",
    "### Assignment 4: Appending to a File\n",
    "\n",
    "Write a function that appends a given string to the end of a file named `log.txt`.\n",
    "\n",
    "### Assignment 5: Counting Words in a File\n",
    "\n",
    "Write a function that reads the contents of a file named `document.txt` and returns the number of words in the file.\n",
    "\n",
    "### Assignment 6: Finding and Replacing Text\n",
    "\n",
    "Write a function that finds and replaces all occurrences of a given word in a file named `data.txt` with another word.\n",
    "\n",
    "### Assignment 7: Reading a File in Reverse\n",
    "\n",
    "Write a function that reads the contents of a file named `reverse.txt` and prints each line in reverse order.\n",
    "\n",
    "### Assignment 8: Counting Lines, Words, and Characters\n",
    "\n",
    "Write a function that reads the contents of a file named `stats.txt` and returns the number of lines, words, and characters in the file.\n",
    "\n",
    "### Assignment 9: Merging Multiple Files\n",
    "\n",
    "Write a function that merges the contents of multiple files into a single file named `merged.txt`.\n",
    "\n",
    "### Assignment 10: Splitting a Large File\n",
    "\n",
    "Write a function that splits a large file named `large.txt` into smaller files of 100 lines each.\n",
    "\n",
    "### Assignment 11: Creating a Log File\n",
    "\n",
    "Write a function that creates a log file named `activity.log` and writes log messages with timestamps.\n",
    "\n",
    "### Assignment 12: Binary File Operations\n",
    "\n",
    "Write a function that reads a binary file named `image.bin` and writes its contents to another binary file named `copy_image.bin`.\n",
    "\n",
    "### Assignment 13: CSV File Operations\n",
    "\n",
    "Write a function that reads a CSV file named `data.csv` and prints its contents as a list of dictionaries.\n",
    "\n",
    "### Assignment 14: JSON File Operations\n",
    "\n",
    "Write a function that reads a JSON file named `data.json` and prints its contents as a Python dictionary.\n",
    "\n",
    "### Assignment 15: File Permission Handling\n",
    "\n",
    "Write a function that attempts to read a file named `protected.txt` and handles any permission errors gracefully by printing an error message."
   ]
  },
  {
   "cell_type": "code",
   "execution_count": 1,
   "metadata": {},
   "outputs": [
    {
     "name": "stdout",
     "output_type": "stream",
     "text": [
      "hii \n",
      "my name  is vaibhs \n",
      "pursuing aiml course by krish naik\n"
     ]
    }
   ],
   "source": [
    "with open('sample.txt','r') as file:\n",
    "    content = file.read()\n",
    "    print(content)"
   ]
  },
  {
   "cell_type": "code",
   "execution_count": 3,
   "id": "d735d585",
   "metadata": {},
   "outputs": [
    {
     "name": "stdout",
     "output_type": "stream",
     "text": [
      "None\n",
      "hello\n",
      "world\n",
      "\n"
     ]
    }
   ],
   "source": [
    "def write_to_file(lines):\n",
    "    with open('output.txt','w') as file:\n",
    "        writing = file.writelines(lines)\n",
    "\n",
    "    return writing\n",
    "\n",
    "lines = [(\"hello\\n\"),(\"world\\n\")]\n",
    "\n",
    "print(write_to_file(lines))\n",
    "\n",
    "with open('output.txt','r') as src:\n",
    "    content=src.read()\n",
    "    print(content)"
   ]
  },
  {
   "cell_type": "code",
   "execution_count": 5,
   "id": "50c6b330",
   "metadata": {},
   "outputs": [
    {
     "data": {
      "text/plain": [
       "59"
      ]
     },
     "execution_count": 5,
     "metadata": {},
     "output_type": "execute_result"
    }
   ],
   "source": [
    "def coping_files(file_path):\n",
    "    with open(file_path,'r') as file:\n",
    "        content = file.read()\n",
    "\n",
    "    with open('copy_file.txt','w+') as cfile:\n",
    "        writing = cfile.write(content)\n",
    "\n",
    "    return writing\n",
    "\n",
    "file_path = 'sample.txt'\n",
    "coping_files(file_path)"
   ]
  },
  {
   "cell_type": "code",
   "execution_count": 7,
   "id": "25f1caf4",
   "metadata": {},
   "outputs": [
    {
     "name": "stdout",
     "output_type": "stream",
     "text": [
      "Appended\n"
     ]
    }
   ],
   "source": [
    "def appending(file_path,text):\n",
    "    with open(file_path,'a') as file:\n",
    "        file.write(text +'\\n')\n",
    "        print(\"Appended\")\n",
    "\n",
    "appending(\"output.txt\",\"any thing you want\")\n",
    "\n"
   ]
  },
  {
   "cell_type": "code",
   "execution_count": 11,
   "id": "f53eedc3",
   "metadata": {},
   "outputs": [
    {
     "name": "stdout",
     "output_type": "stream",
     "text": [
      "['hello', 'world', 'any', 'thing', 'you', 'want']\n"
     ]
    },
    {
     "data": {
      "text/plain": [
       "6"
      ]
     },
     "execution_count": 11,
     "metadata": {},
     "output_type": "execute_result"
    }
   ],
   "source": [
    "def counting(file_path):\n",
    "    with open(file_path,'r') as file:\n",
    "        \n",
    "        content = file.read()\n",
    "        words = content.split()\n",
    "        print(words)\n",
    "        return len(words)\n",
    "        \n",
    "    \n",
    "counting(\"output.txt\")\n"
   ]
  },
  {
   "cell_type": "code",
   "execution_count": 14,
   "id": "76fed1d2",
   "metadata": {},
   "outputs": [],
   "source": [
    "def finding_word(file_path,new_word,old_word):\n",
    "    with open(file_path,'r') as file:\n",
    "        content = file.read()\n",
    "\n",
    "    new_content = content.replace(old_word,new_word)\n",
    "\n",
    "    with open(file_path,'w') as file:\n",
    "        file.write(new_content)\n",
    "    \n",
    "finding_word('copy_file.txt',\"hello\",\"hii\")"
   ]
  },
  {
   "cell_type": "code",
   "execution_count": 2,
   "id": "14da969c",
   "metadata": {},
   "outputs": [
    {
     "name": "stdout",
     "output_type": "stream",
     "text": [
      "any thing you want\n",
      "\n",
      "world\n",
      "hello\n"
     ]
    }
   ],
   "source": [
    "def reading_in_reverse(file_path):\n",
    "    with open(file_path,'r') as file:\n",
    "        content = file.readlines()\n",
    "\n",
    "    for line in reversed(content):\n",
    "        print(line.strip())\n",
    "reading_in_reverse(\"output.txt\")"
   ]
  },
  {
   "cell_type": "code",
   "execution_count": 3,
   "id": "21659835",
   "metadata": {},
   "outputs": [
    {
     "data": {
      "text/plain": [
       "(3, 61, 11)"
      ]
     },
     "execution_count": 3,
     "metadata": {},
     "output_type": "execute_result"
    }
   ],
   "source": [
    "def counting(file_path):\n",
    "    with open(file_path,'r') as file:\n",
    "        lines = file.readlines()\n",
    "        total_lines = len(lines)\n",
    "        total_words = sum(len(line.split()) for line in lines)\n",
    "        total_char = sum(len(line) for line in lines)\n",
    "    return total_lines, total_char,total_words\n",
    "\n",
    "counting(\"copy_file.txt\")"
   ]
  },
  {
   "cell_type": "code",
   "execution_count": 4,
   "id": "af893b92",
   "metadata": {},
   "outputs": [
    {
     "data": {
      "text/plain": [
       "'merging.txt'"
      ]
     },
     "execution_count": 4,
     "metadata": {},
     "output_type": "execute_result"
    }
   ],
   "source": [
    "def merging(first_file,output_file):\n",
    "    with open(first_file,'r') as ffile:\n",
    "        content=ffile.read()\n",
    "    with open(output_file,'w+') as ofile:\n",
    "        ofile.write(content)\n",
    "    \n",
    "    return output_file\n",
    "merging(\"sample.txt\",\"merging.txt\")"
   ]
  },
  {
   "cell_type": "code",
   "execution_count": 6,
   "id": "e83dc9a6",
   "metadata": {},
   "outputs": [],
   "source": [
    "# another solution for above problem\n",
    "def merge_files(file_list,output_file):\n",
    "    with open(output_file,'w') as outfile:\n",
    "        for fname in file_list:\n",
    "            with open(fname,\"r\") as ffile:\n",
    "                outfile.write(ffile.read()+'\\n')\n",
    "\n",
    "merge_files(['file1.txt','file2.txt'],'mergedfile.txt')"
   ]
  },
  {
   "cell_type": "code",
   "execution_count": 8,
   "id": "67819a19",
   "metadata": {},
   "outputs": [],
   "source": [
    "def split_file(filename, lines_per_file):\n",
    "    with open(filename, 'r') as file:\n",
    "        lines = file.readlines()\n",
    "    for i in range(0, len(lines), lines_per_file):\n",
    "        with open(f'{filename}_part{i//lines_per_file + 1}.txt', 'w') as part_file:\n",
    "            part_file.writelines(lines[i:i + lines_per_file])\n",
    "\n",
    "split_file('large.txt', 3)"
   ]
  },
  {
   "cell_type": "code",
   "execution_count": 9,
   "id": "64dd6a43",
   "metadata": {},
   "outputs": [],
   "source": [
    "import datetime\n",
    "\n",
    "def log_message(message,file_name='activity.log'):\n",
    "    timestamps = datetime.datetime.now().isoformat()\n",
    "    with open(file_name,'a') as file:\n",
    "        file.write(f'{timestamps}|{message}')\n",
    "\n",
    "log_message(\"hello this is log message\")\n",
    "\n",
    "       "
   ]
  },
  {
   "cell_type": "code",
   "execution_count": null,
   "id": "8e1b9faf",
   "metadata": {},
   "outputs": [],
   "source": []
  }
 ],
 "metadata": {
  "kernelspec": {
   "display_name": "Python 3",
   "language": "python",
   "name": "python3"
  },
  "language_info": {
   "codemirror_mode": {
    "name": "ipython",
    "version": 3
   },
   "file_extension": ".py",
   "mimetype": "text/x-python",
   "name": "python",
   "nbconvert_exporter": "python",
   "pygments_lexer": "ipython3",
   "version": "3.12.1"
  }
 },
 "nbformat": 4,
 "nbformat_minor": 5
}
